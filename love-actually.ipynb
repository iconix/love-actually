{
 "cells": [
  {
   "cell_type": "markdown",
   "metadata": {},
   "source": [
    "# Analyzing networks of characters in _Love Actually_ in Python\n",
    "\n",
    "Source material in R: http://varianceexplained.org/r/love-actually-network/"
   ]
  },
  {
   "cell_type": "markdown",
   "metadata": {},
   "source": [
    "Making sure my Anaconda installation is equivalent to Python [Root] here..."
   ]
  },
  {
   "cell_type": "code",
   "execution_count": null,
   "metadata": {
    "collapsed": false
   },
   "outputs": [],
   "source": [
    "!which python"
   ]
  },
  {
   "cell_type": "markdown",
   "metadata": {},
   "source": [
    "**David's original stated goal**: \"Visualize the connections quantitatively, based on how often characters share scenes.\"\n",
    "\n",
    "Tasks accomplished in R:\n",
    "1. Organize the raw data into a table\n",
    "3. Counts lines per scene per character\n",
    "4. Cast into binary speaker-scene matrix\n",
    "5. Hierarchical clustering\n",
    "6. Timeline visualization\n",
    "7. Coocurrence heatmap\n",
    "8. Network graph visualization\n",
    "9. Output data frame in a way R can consume for Shiny app usage\n",
    "\n",
    "Tasks 1-4 are data munging/parsing/tidying. 5-8 are analysis and visualization. Task 9 is UX-friendly output."
   ]
  },
  {
   "cell_type": "markdown",
   "metadata": {},
   "source": [
    "## Organize the raw data into a table\n",
    "\n",
    "**Section subgoals**: read in script lines; map characters to actors; transform script into a data frame with scene#, line#, character speaking, line of dialogue, and actor\n",
    "\n",
    "David uses the R package `dplyr` extensively (along with a little `stringr` and `tidyr`) and in a very dense way to perform reach this goal. We'll need to unpack this in order to understand and then translate it to Python."
   ]
  },
  {
   "cell_type": "code",
   "execution_count": 1,
   "metadata": {
    "collapsed": false
   },
   "outputs": [],
   "source": [
    "import os\n",
    "\n",
    "BASE_DIR = os.getcwd()\n",
    "RAWDATA_DIR = BASE_DIR + '/rawdata'\n",
    "\n",
    "raw_script = RAWDATA_DIR + '/love_actually.txt'\n",
    "cast_csv = RAWDATA_DIR + '/love_actually_cast.csv'"
   ]
  },
  {
   "cell_type": "code",
   "execution_count": 2,
   "metadata": {
    "collapsed": false
   },
   "outputs": [
    {
     "data": {
      "text/html": [
       "<div>\n",
       "<table border=\"1\" class=\"dataframe\">\n",
       "  <thead>\n",
       "    <tr style=\"text-align: right;\">\n",
       "      <th></th>\n",
       "      <th>raw</th>\n",
       "    </tr>\n",
       "  </thead>\n",
       "  <tbody>\n",
       "    <tr>\n",
       "      <th>0</th>\n",
       "      <td>﻿Love Actually Scripts\\n</td>\n",
       "    </tr>\n",
       "    <tr>\n",
       "      <th>1</th>\n",
       "      <td>\\n</td>\n",
       "    </tr>\n",
       "    <tr>\n",
       "      <th>2</th>\n",
       "      <td>\\n</td>\n",
       "    </tr>\n",
       "    <tr>\n",
       "      <th>3</th>\n",
       "      <td>\\n</td>\n",
       "    </tr>\n",
       "    <tr>\n",
       "      <th>4</th>\n",
       "      <td>[ Scene #1 ]\\n</td>\n",
       "    </tr>\n",
       "    <tr>\n",
       "      <th>5</th>\n",
       "      <td>(Man): 'Whenever I get gloomy with the state o...</td>\n",
       "    </tr>\n",
       "    <tr>\n",
       "      <th>6</th>\n",
       "      <td>I think about the arrival's gate at Heathrow...</td>\n",
       "    </tr>\n",
       "    <tr>\n",
       "      <th>7</th>\n",
       "      <td>General opinion started to make out that we ...</td>\n",
       "    </tr>\n",
       "    <tr>\n",
       "      <th>8</th>\n",
       "      <td>but I don't see that. Seems to me that love ...</td>\n",
       "    </tr>\n",
       "    <tr>\n",
       "      <th>9</th>\n",
       "      <td>Often it's not particularly dignified or new...</td>\n",
       "    </tr>\n",
       "  </tbody>\n",
       "</table>\n",
       "</div>"
      ],
      "text/plain": [
       "                                                 raw\n",
       "0                           ﻿Love Actually Scripts\\n\n",
       "1                                                 \\n\n",
       "2                                                 \\n\n",
       "3                                                 \\n\n",
       "4                                     [ Scene #1 ]\\n\n",
       "5  (Man): 'Whenever I get gloomy with the state o...\n",
       "6    I think about the arrival's gate at Heathrow...\n",
       "7    General opinion started to make out that we ...\n",
       "8    but I don't see that. Seems to me that love ...\n",
       "9    Often it's not particularly dignified or new..."
      ]
     },
     "execution_count": 2,
     "metadata": {},
     "output_type": "execute_result"
    }
   ],
   "source": [
    "from pandas import DataFrame\n",
    "import pandas as pd\n",
    "import numpy as np\n",
    "\n",
    "# read in the script\n",
    "with open(raw_script, 'r', encoding='utf8') as s:\n",
    "    raw_df = DataFrame({'raw': s.readlines()})\n",
    "raw_df[:10]"
   ]
  },
  {
   "cell_type": "code",
   "execution_count": 3,
   "metadata": {
    "collapsed": false
   },
   "outputs": [
    {
     "data": {
      "text/plain": [
       "1437"
      ]
     },
     "execution_count": 3,
     "metadata": {},
     "output_type": "execute_result"
    }
   ],
   "source": [
    "len(raw_df)"
   ]
  },
  {
   "cell_type": "code",
   "execution_count": 4,
   "metadata": {
    "collapsed": false
   },
   "outputs": [],
   "source": [
    "# used for displaying full data while debugging using the form HTML(data.to_html())\n",
    "#from IPython.display import HTML"
   ]
  },
  {
   "cell_type": "code",
   "execution_count": 5,
   "metadata": {
    "collapsed": false
   },
   "outputs": [],
   "source": [
    "# filter out new/empty lines and lines annotated as songs\n",
    "lines = DataFrame(raw_df[(raw_df.raw.str.strip() != '') & ~(raw_df.raw.str.contains('\\(song\\)'))])"
   ]
  },
  {
   "cell_type": "code",
   "execution_count": 6,
   "metadata": {
    "collapsed": false
   },
   "outputs": [
    {
     "data": {
      "text/plain": [
       "1265"
      ]
     },
     "execution_count": 6,
     "metadata": {},
     "output_type": "execute_result"
    }
   ],
   "source": [
    "len(lines)"
   ]
  },
  {
   "cell_type": "code",
   "execution_count": 7,
   "metadata": {
    "collapsed": false
   },
   "outputs": [
    {
     "data": {
      "text/html": [
       "<div>\n",
       "<table border=\"1\" class=\"dataframe\">\n",
       "  <thead>\n",
       "    <tr style=\"text-align: right;\">\n",
       "      <th></th>\n",
       "      <th>raw</th>\n",
       "    </tr>\n",
       "  </thead>\n",
       "  <tbody>\n",
       "    <tr>\n",
       "      <th>0</th>\n",
       "      <td>﻿Love Actually Scripts\\n</td>\n",
       "    </tr>\n",
       "    <tr>\n",
       "      <th>4</th>\n",
       "      <td>[ Scene #1 ]\\n</td>\n",
       "    </tr>\n",
       "    <tr>\n",
       "      <th>5</th>\n",
       "      <td>(Man): 'Whenever I get gloomy with the state o...</td>\n",
       "    </tr>\n",
       "    <tr>\n",
       "      <th>6</th>\n",
       "      <td>I think about the arrival's gate at Heathrow...</td>\n",
       "    </tr>\n",
       "    <tr>\n",
       "      <th>7</th>\n",
       "      <td>General opinion started to make out that we ...</td>\n",
       "    </tr>\n",
       "    <tr>\n",
       "      <th>8</th>\n",
       "      <td>but I don't see that. Seems to me that love ...</td>\n",
       "    </tr>\n",
       "    <tr>\n",
       "      <th>9</th>\n",
       "      <td>Often it's not particularly dignified or new...</td>\n",
       "    </tr>\n",
       "    <tr>\n",
       "      <th>10</th>\n",
       "      <td>Fathers and sons, mothers and daughters, hus...</td>\n",
       "    </tr>\n",
       "    <tr>\n",
       "      <th>11</th>\n",
       "      <td>When the planes hit the Twin Towers, as far ...</td>\n",
       "    </tr>\n",
       "    <tr>\n",
       "      <th>12</th>\n",
       "      <td>none of the phone calls from people on board...</td>\n",
       "    </tr>\n",
       "  </tbody>\n",
       "</table>\n",
       "</div>"
      ],
      "text/plain": [
       "                                                  raw\n",
       "0                            ﻿Love Actually Scripts\\n\n",
       "4                                      [ Scene #1 ]\\n\n",
       "5   (Man): 'Whenever I get gloomy with the state o...\n",
       "6     I think about the arrival's gate at Heathrow...\n",
       "7     General opinion started to make out that we ...\n",
       "8     but I don't see that. Seems to me that love ...\n",
       "9     Often it's not particularly dignified or new...\n",
       "10    Fathers and sons, mothers and daughters, hus...\n",
       "11    When the planes hit the Twin Towers, as far ...\n",
       "12    none of the phone calls from people on board..."
      ]
     },
     "execution_count": 7,
     "metadata": {},
     "output_type": "execute_result"
    }
   ],
   "source": [
    "lines[:10]"
   ]
  },
  {
   "cell_type": "code",
   "execution_count": 8,
   "metadata": {
    "collapsed": false
   },
   "outputs": [],
   "source": [
    "# mutate: add new columns to annotate scene markers and then calculate scene numbers for each line, based on markers.\n",
    "\n",
    "lines['is_scene'] = np.where(lines.raw.str.contains(\"\\[ Scene #\"), True, False)\n",
    "# fortunately, numpy has a cumsum method like R\n",
    "lines['scene'] = np.cumsum(np.where(lines.raw.str.contains(\"\\[ Scene #\"), True, False))"
   ]
  },
  {
   "cell_type": "code",
   "execution_count": 9,
   "metadata": {
    "collapsed": false
   },
   "outputs": [
    {
     "data": {
      "text/html": [
       "<div>\n",
       "<table border=\"1\" class=\"dataframe\">\n",
       "  <thead>\n",
       "    <tr style=\"text-align: right;\">\n",
       "      <th></th>\n",
       "      <th>raw</th>\n",
       "      <th>is_scene</th>\n",
       "      <th>scene</th>\n",
       "    </tr>\n",
       "  </thead>\n",
       "  <tbody>\n",
       "    <tr>\n",
       "      <th>0</th>\n",
       "      <td>﻿Love Actually Scripts\\n</td>\n",
       "      <td>False</td>\n",
       "      <td>0</td>\n",
       "    </tr>\n",
       "    <tr>\n",
       "      <th>4</th>\n",
       "      <td>[ Scene #1 ]\\n</td>\n",
       "      <td>True</td>\n",
       "      <td>1</td>\n",
       "    </tr>\n",
       "    <tr>\n",
       "      <th>5</th>\n",
       "      <td>(Man): 'Whenever I get gloomy with the state o...</td>\n",
       "      <td>False</td>\n",
       "      <td>1</td>\n",
       "    </tr>\n",
       "    <tr>\n",
       "      <th>6</th>\n",
       "      <td>I think about the arrival's gate at Heathrow...</td>\n",
       "      <td>False</td>\n",
       "      <td>1</td>\n",
       "    </tr>\n",
       "    <tr>\n",
       "      <th>7</th>\n",
       "      <td>General opinion started to make out that we ...</td>\n",
       "      <td>False</td>\n",
       "      <td>1</td>\n",
       "    </tr>\n",
       "    <tr>\n",
       "      <th>8</th>\n",
       "      <td>but I don't see that. Seems to me that love ...</td>\n",
       "      <td>False</td>\n",
       "      <td>1</td>\n",
       "    </tr>\n",
       "    <tr>\n",
       "      <th>9</th>\n",
       "      <td>Often it's not particularly dignified or new...</td>\n",
       "      <td>False</td>\n",
       "      <td>1</td>\n",
       "    </tr>\n",
       "    <tr>\n",
       "      <th>10</th>\n",
       "      <td>Fathers and sons, mothers and daughters, hus...</td>\n",
       "      <td>False</td>\n",
       "      <td>1</td>\n",
       "    </tr>\n",
       "    <tr>\n",
       "      <th>11</th>\n",
       "      <td>When the planes hit the Twin Towers, as far ...</td>\n",
       "      <td>False</td>\n",
       "      <td>1</td>\n",
       "    </tr>\n",
       "    <tr>\n",
       "      <th>12</th>\n",
       "      <td>none of the phone calls from people on board...</td>\n",
       "      <td>False</td>\n",
       "      <td>1</td>\n",
       "    </tr>\n",
       "  </tbody>\n",
       "</table>\n",
       "</div>"
      ],
      "text/plain": [
       "                                                  raw is_scene  scene\n",
       "0                            ﻿Love Actually Scripts\\n    False      0\n",
       "4                                      [ Scene #1 ]\\n     True      1\n",
       "5   (Man): 'Whenever I get gloomy with the state o...    False      1\n",
       "6     I think about the arrival's gate at Heathrow...    False      1\n",
       "7     General opinion started to make out that we ...    False      1\n",
       "8     but I don't see that. Seems to me that love ...    False      1\n",
       "9     Often it's not particularly dignified or new...    False      1\n",
       "10    Fathers and sons, mothers and daughters, hus...    False      1\n",
       "11    When the planes hit the Twin Towers, as far ...    False      1\n",
       "12    none of the phone calls from people on board...    False      1"
      ]
     },
     "execution_count": 9,
     "metadata": {},
     "output_type": "execute_result"
    }
   ],
   "source": [
    "lines[:10]"
   ]
  },
  {
   "cell_type": "code",
   "execution_count": 10,
   "metadata": {
    "collapsed": false
   },
   "outputs": [],
   "source": [
    "# clean up now that we're done with the is_scene column\n",
    "lines = lines[~lines.is_scene] # filter out scene markers\n",
    "lines = lines.drop('is_scene', axis=1) # remove is_scene column"
   ]
  },
  {
   "cell_type": "code",
   "execution_count": 11,
   "metadata": {
    "collapsed": false
   },
   "outputs": [
    {
     "data": {
      "text/html": [
       "<div>\n",
       "<table border=\"1\" class=\"dataframe\">\n",
       "  <thead>\n",
       "    <tr style=\"text-align: right;\">\n",
       "      <th></th>\n",
       "      <th>raw</th>\n",
       "      <th>scene</th>\n",
       "    </tr>\n",
       "  </thead>\n",
       "  <tbody>\n",
       "    <tr>\n",
       "      <th>0</th>\n",
       "      <td>﻿Love Actually Scripts\\n</td>\n",
       "      <td>0</td>\n",
       "    </tr>\n",
       "    <tr>\n",
       "      <th>5</th>\n",
       "      <td>(Man): 'Whenever I get gloomy with the state o...</td>\n",
       "      <td>1</td>\n",
       "    </tr>\n",
       "    <tr>\n",
       "      <th>6</th>\n",
       "      <td>I think about the arrival's gate at Heathrow...</td>\n",
       "      <td>1</td>\n",
       "    </tr>\n",
       "    <tr>\n",
       "      <th>7</th>\n",
       "      <td>General opinion started to make out that we ...</td>\n",
       "      <td>1</td>\n",
       "    </tr>\n",
       "    <tr>\n",
       "      <th>8</th>\n",
       "      <td>but I don't see that. Seems to me that love ...</td>\n",
       "      <td>1</td>\n",
       "    </tr>\n",
       "    <tr>\n",
       "      <th>9</th>\n",
       "      <td>Often it's not particularly dignified or new...</td>\n",
       "      <td>1</td>\n",
       "    </tr>\n",
       "    <tr>\n",
       "      <th>10</th>\n",
       "      <td>Fathers and sons, mothers and daughters, hus...</td>\n",
       "      <td>1</td>\n",
       "    </tr>\n",
       "    <tr>\n",
       "      <th>11</th>\n",
       "      <td>When the planes hit the Twin Towers, as far ...</td>\n",
       "      <td>1</td>\n",
       "    </tr>\n",
       "    <tr>\n",
       "      <th>12</th>\n",
       "      <td>none of the phone calls from people on board...</td>\n",
       "      <td>1</td>\n",
       "    </tr>\n",
       "    <tr>\n",
       "      <th>13</th>\n",
       "      <td>they were all messages of love. \\n</td>\n",
       "      <td>1</td>\n",
       "    </tr>\n",
       "  </tbody>\n",
       "</table>\n",
       "</div>"
      ],
      "text/plain": [
       "                                                  raw  scene\n",
       "0                            ﻿Love Actually Scripts\\n      0\n",
       "5   (Man): 'Whenever I get gloomy with the state o...      1\n",
       "6     I think about the arrival's gate at Heathrow...      1\n",
       "7     General opinion started to make out that we ...      1\n",
       "8     but I don't see that. Seems to me that love ...      1\n",
       "9     Often it's not particularly dignified or new...      1\n",
       "10    Fathers and sons, mothers and daughters, hus...      1\n",
       "11    When the planes hit the Twin Towers, as far ...      1\n",
       "12    none of the phone calls from people on board...      1\n",
       "13                 they were all messages of love. \\n      1"
      ]
     },
     "execution_count": 11,
     "metadata": {},
     "output_type": "execute_result"
    }
   ],
   "source": [
    "lines[:10]"
   ]
  },
  {
   "cell_type": "code",
   "execution_count": 12,
   "metadata": {
    "collapsed": false
   },
   "outputs": [],
   "source": [
    "# take raw and partition by ':'\n",
    "# if partition exists, left side represents the speaker, right side the dialogue of the speaker\n",
    "# if partition does not exist, entire line is dialogue\n",
    "raw_partitioned = lines.raw.str.rpartition(':')"
   ]
  },
  {
   "cell_type": "code",
   "execution_count": 13,
   "metadata": {
    "collapsed": false
   },
   "outputs": [],
   "source": [
    "lines['speaker'] = raw_partitioned[0]\n",
    "lines['dialogue'] = raw_partitioned[2]"
   ]
  },
  {
   "cell_type": "code",
   "execution_count": 14,
   "metadata": {
    "collapsed": false
   },
   "outputs": [],
   "source": [
    "# add new column with line numbers\n",
    "lines['line'] = np.cumsum(lines.speaker != '')"
   ]
  },
  {
   "cell_type": "code",
   "execution_count": 15,
   "metadata": {
    "collapsed": false
   },
   "outputs": [
    {
     "data": {
      "text/html": [
       "<div>\n",
       "<table border=\"1\" class=\"dataframe\">\n",
       "  <thead>\n",
       "    <tr style=\"text-align: right;\">\n",
       "      <th></th>\n",
       "      <th>raw</th>\n",
       "      <th>scene</th>\n",
       "      <th>speaker</th>\n",
       "      <th>dialogue</th>\n",
       "      <th>line</th>\n",
       "    </tr>\n",
       "  </thead>\n",
       "  <tbody>\n",
       "    <tr>\n",
       "      <th>0</th>\n",
       "      <td>﻿Love Actually Scripts\\n</td>\n",
       "      <td>0</td>\n",
       "      <td></td>\n",
       "      <td>﻿Love Actually Scripts\\n</td>\n",
       "      <td>0</td>\n",
       "    </tr>\n",
       "    <tr>\n",
       "      <th>5</th>\n",
       "      <td>(Man): 'Whenever I get gloomy with the state o...</td>\n",
       "      <td>1</td>\n",
       "      <td>(Man)</td>\n",
       "      <td>'Whenever I get gloomy with the state of the ...</td>\n",
       "      <td>1</td>\n",
       "    </tr>\n",
       "    <tr>\n",
       "      <th>6</th>\n",
       "      <td>I think about the arrival's gate at Heathrow...</td>\n",
       "      <td>1</td>\n",
       "      <td></td>\n",
       "      <td>I think about the arrival's gate at Heathrow...</td>\n",
       "      <td>1</td>\n",
       "    </tr>\n",
       "    <tr>\n",
       "      <th>7</th>\n",
       "      <td>General opinion started to make out that we ...</td>\n",
       "      <td>1</td>\n",
       "      <td></td>\n",
       "      <td>General opinion started to make out that we ...</td>\n",
       "      <td>1</td>\n",
       "    </tr>\n",
       "    <tr>\n",
       "      <th>8</th>\n",
       "      <td>but I don't see that. Seems to me that love ...</td>\n",
       "      <td>1</td>\n",
       "      <td></td>\n",
       "      <td>but I don't see that. Seems to me that love ...</td>\n",
       "      <td>1</td>\n",
       "    </tr>\n",
       "    <tr>\n",
       "      <th>9</th>\n",
       "      <td>Often it's not particularly dignified or new...</td>\n",
       "      <td>1</td>\n",
       "      <td></td>\n",
       "      <td>Often it's not particularly dignified or new...</td>\n",
       "      <td>1</td>\n",
       "    </tr>\n",
       "    <tr>\n",
       "      <th>10</th>\n",
       "      <td>Fathers and sons, mothers and daughters, hus...</td>\n",
       "      <td>1</td>\n",
       "      <td></td>\n",
       "      <td>Fathers and sons, mothers and daughters, hus...</td>\n",
       "      <td>1</td>\n",
       "    </tr>\n",
       "    <tr>\n",
       "      <th>11</th>\n",
       "      <td>When the planes hit the Twin Towers, as far ...</td>\n",
       "      <td>1</td>\n",
       "      <td></td>\n",
       "      <td>When the planes hit the Twin Towers, as far ...</td>\n",
       "      <td>1</td>\n",
       "    </tr>\n",
       "    <tr>\n",
       "      <th>12</th>\n",
       "      <td>none of the phone calls from people on board...</td>\n",
       "      <td>1</td>\n",
       "      <td></td>\n",
       "      <td>none of the phone calls from people on board...</td>\n",
       "      <td>1</td>\n",
       "    </tr>\n",
       "    <tr>\n",
       "      <th>13</th>\n",
       "      <td>they were all messages of love. \\n</td>\n",
       "      <td>1</td>\n",
       "      <td></td>\n",
       "      <td>they were all messages of love. \\n</td>\n",
       "      <td>1</td>\n",
       "    </tr>\n",
       "    <tr>\n",
       "      <th>14</th>\n",
       "      <td>If you look for it, I've got a sneaky feelin...</td>\n",
       "      <td>1</td>\n",
       "      <td></td>\n",
       "      <td>If you look for it, I've got a sneaky feelin...</td>\n",
       "      <td>1</td>\n",
       "    </tr>\n",
       "    <tr>\n",
       "      <th>17</th>\n",
       "      <td>Billy: ♪ I feel it in my fingers ♪ I feel it i...</td>\n",
       "      <td>2</td>\n",
       "      <td>Billy</td>\n",
       "      <td>♪ I feel it in my fingers ♪ I feel it in my t...</td>\n",
       "      <td>2</td>\n",
       "    </tr>\n",
       "    <tr>\n",
       "      <th>18</th>\n",
       "      <td>Love is all around me And so the... ♪\\n</td>\n",
       "      <td>2</td>\n",
       "      <td></td>\n",
       "      <td>Love is all around me And so the... ♪\\n</td>\n",
       "      <td>2</td>\n",
       "    </tr>\n",
       "    <tr>\n",
       "      <th>19</th>\n",
       "      <td>Joe: I'm afraid you did it again, Bill.\\n</td>\n",
       "      <td>2</td>\n",
       "      <td>Joe</td>\n",
       "      <td>I'm afraid you did it again, Bill.\\n</td>\n",
       "      <td>3</td>\n",
       "    </tr>\n",
       "    <tr>\n",
       "      <th>20</th>\n",
       "      <td>Billy: It's just I know the old version so wel...</td>\n",
       "      <td>2</td>\n",
       "      <td>Billy</td>\n",
       "      <td>It's just I know the old version so well, you...</td>\n",
       "      <td>4</td>\n",
       "    </tr>\n",
       "  </tbody>\n",
       "</table>\n",
       "</div>"
      ],
      "text/plain": [
       "                                                  raw  scene speaker  \\\n",
       "0                            ﻿Love Actually Scripts\\n      0           \n",
       "5   (Man): 'Whenever I get gloomy with the state o...      1   (Man)   \n",
       "6     I think about the arrival's gate at Heathrow...      1           \n",
       "7     General opinion started to make out that we ...      1           \n",
       "8     but I don't see that. Seems to me that love ...      1           \n",
       "9     Often it's not particularly dignified or new...      1           \n",
       "10    Fathers and sons, mothers and daughters, hus...      1           \n",
       "11    When the planes hit the Twin Towers, as far ...      1           \n",
       "12    none of the phone calls from people on board...      1           \n",
       "13                 they were all messages of love. \\n      1           \n",
       "14    If you look for it, I've got a sneaky feelin...      1           \n",
       "17  Billy: ♪ I feel it in my fingers ♪ I feel it i...      2   Billy   \n",
       "18            Love is all around me And so the... ♪\\n      2           \n",
       "19          Joe: I'm afraid you did it again, Bill.\\n      2     Joe   \n",
       "20  Billy: It's just I know the old version so wel...      2   Billy   \n",
       "\n",
       "                                             dialogue  line  \n",
       "0                            ﻿Love Actually Scripts\\n     0  \n",
       "5    'Whenever I get gloomy with the state of the ...     1  \n",
       "6     I think about the arrival's gate at Heathrow...     1  \n",
       "7     General opinion started to make out that we ...     1  \n",
       "8     but I don't see that. Seems to me that love ...     1  \n",
       "9     Often it's not particularly dignified or new...     1  \n",
       "10    Fathers and sons, mothers and daughters, hus...     1  \n",
       "11    When the planes hit the Twin Towers, as far ...     1  \n",
       "12    none of the phone calls from people on board...     1  \n",
       "13                 they were all messages of love. \\n     1  \n",
       "14    If you look for it, I've got a sneaky feelin...     1  \n",
       "17   ♪ I feel it in my fingers ♪ I feel it in my t...     2  \n",
       "18            Love is all around me And so the... ♪\\n     2  \n",
       "19               I'm afraid you did it again, Bill.\\n     3  \n",
       "20   It's just I know the old version so well, you...     4  "
      ]
     },
     "execution_count": 15,
     "metadata": {},
     "output_type": "execute_result"
    }
   ],
   "source": [
    "lines[:15]"
   ]
  },
  {
   "cell_type": "code",
   "execution_count": 16,
   "metadata": {
    "collapsed": false
   },
   "outputs": [],
   "source": [
    "# collapse dialogue belonging to the same line into one row:\n",
    "    # group by scene and line (do not index by group labels, else we'll get a weird multi-level index at the end)\n",
    "    # aggregate the dialogue across these groups (and aggregate speaker, but each line should have one speaker anyway)\n",
    "lines = lines.groupby(['scene', 'line'], as_index=False).aggregate({'dialogue': lambda x: x.str.cat().strip(), 'speaker': lambda x: x.str.cat()})"
   ]
  },
  {
   "cell_type": "code",
   "execution_count": 17,
   "metadata": {
    "collapsed": false
   },
   "outputs": [
    {
     "data": {
      "text/html": [
       "<div>\n",
       "<table border=\"1\" class=\"dataframe\">\n",
       "  <thead>\n",
       "    <tr style=\"text-align: right;\">\n",
       "      <th></th>\n",
       "      <th>scene</th>\n",
       "      <th>line</th>\n",
       "      <th>dialogue</th>\n",
       "      <th>speaker</th>\n",
       "    </tr>\n",
       "  </thead>\n",
       "  <tbody>\n",
       "    <tr>\n",
       "      <th>0</th>\n",
       "      <td>0</td>\n",
       "      <td>0</td>\n",
       "      <td>﻿Love Actually Scripts</td>\n",
       "      <td></td>\n",
       "    </tr>\n",
       "    <tr>\n",
       "      <th>1</th>\n",
       "      <td>1</td>\n",
       "      <td>1</td>\n",
       "      <td>'Whenever I get gloomy with the state of the w...</td>\n",
       "      <td>(Man)</td>\n",
       "    </tr>\n",
       "    <tr>\n",
       "      <th>2</th>\n",
       "      <td>2</td>\n",
       "      <td>2</td>\n",
       "      <td>♪ I feel it in my fingers ♪ I feel it in my to...</td>\n",
       "      <td>Billy</td>\n",
       "    </tr>\n",
       "    <tr>\n",
       "      <th>3</th>\n",
       "      <td>2</td>\n",
       "      <td>3</td>\n",
       "      <td>I'm afraid you did it again, Bill.</td>\n",
       "      <td>Joe</td>\n",
       "    </tr>\n",
       "    <tr>\n",
       "      <th>4</th>\n",
       "      <td>2</td>\n",
       "      <td>4</td>\n",
       "      <td>It's just I know the old version so well, you ...</td>\n",
       "      <td>Billy</td>\n",
       "    </tr>\n",
       "    <tr>\n",
       "      <th>5</th>\n",
       "      <td>2</td>\n",
       "      <td>5</td>\n",
       "      <td>Well, we all do. That's why we're making the n...</td>\n",
       "      <td>Joe</td>\n",
       "    </tr>\n",
       "    <tr>\n",
       "      <th>6</th>\n",
       "      <td>2</td>\n",
       "      <td>6</td>\n",
       "      <td>Right, OK, let's go. ♪ I feel it in my fingers...</td>\n",
       "      <td>Billy</td>\n",
       "    </tr>\n",
       "    <tr>\n",
       "      <th>7</th>\n",
       "      <td>2</td>\n",
       "      <td>7</td>\n",
       "      <td>Oh, fuck, wank, bugger, shitting, arsehead and...</td>\n",
       "      <td>Billy</td>\n",
       "    </tr>\n",
       "    <tr>\n",
       "      <th>8</th>\n",
       "      <td>2</td>\n",
       "      <td>8</td>\n",
       "      <td>This is shit, isn't it?</td>\n",
       "      <td>Billy</td>\n",
       "    </tr>\n",
       "    <tr>\n",
       "      <th>9</th>\n",
       "      <td>2</td>\n",
       "      <td>9</td>\n",
       "      <td>Yup, solid gold shit, Maestro.</td>\n",
       "      <td>Joe</td>\n",
       "    </tr>\n",
       "  </tbody>\n",
       "</table>\n",
       "</div>"
      ],
      "text/plain": [
       "   scene  line                                           dialogue speaker\n",
       "0      0     0                             ﻿Love Actually Scripts        \n",
       "1      1     1  'Whenever I get gloomy with the state of the w...   (Man)\n",
       "2      2     2  ♪ I feel it in my fingers ♪ I feel it in my to...   Billy\n",
       "3      2     3                 I'm afraid you did it again, Bill.     Joe\n",
       "4      2     4  It's just I know the old version so well, you ...   Billy\n",
       "5      2     5  Well, we all do. That's why we're making the n...     Joe\n",
       "6      2     6  Right, OK, let's go. ♪ I feel it in my fingers...   Billy\n",
       "7      2     7  Oh, fuck, wank, bugger, shitting, arsehead and...   Billy\n",
       "8      2     8                            This is shit, isn't it?   Billy\n",
       "9      2     9                     Yup, solid gold shit, Maestro.     Joe"
      ]
     },
     "execution_count": 17,
     "metadata": {},
     "output_type": "execute_result"
    }
   ],
   "source": [
    "lines[:10]"
   ]
  },
  {
   "cell_type": "markdown",
   "metadata": {},
   "source": [
    "^Note that David did everything so far in one (extremely) dense line of code with a bunch of piping!"
   ]
  },
  {
   "cell_type": "code",
   "execution_count": 18,
   "metadata": {
    "collapsed": false
   },
   "outputs": [],
   "source": [
    "# read in the character -> actor mapping\n",
    "with open(cast_csv, 'r') as c:\n",
    "    cast = pd.read_csv(c)"
   ]
  },
  {
   "cell_type": "code",
   "execution_count": 19,
   "metadata": {
    "collapsed": false
   },
   "outputs": [],
   "source": [
    "lines = lines.merge(cast)\n",
    "lines['character'] = lines['speaker'] + ' (' + lines['actor'] + ')'\n",
    "\n",
    "lines = lines.sort_values('line')"
   ]
  },
  {
   "cell_type": "code",
   "execution_count": 20,
   "metadata": {
    "collapsed": false
   },
   "outputs": [
    {
     "data": {
      "text/html": [
       "<div>\n",
       "<table border=\"1\" class=\"dataframe\">\n",
       "  <thead>\n",
       "    <tr style=\"text-align: right;\">\n",
       "      <th></th>\n",
       "      <th>scene</th>\n",
       "      <th>line</th>\n",
       "      <th>dialogue</th>\n",
       "      <th>speaker</th>\n",
       "      <th>actor</th>\n",
       "      <th>character</th>\n",
       "    </tr>\n",
       "  </thead>\n",
       "  <tbody>\n",
       "    <tr>\n",
       "      <th>0</th>\n",
       "      <td>2</td>\n",
       "      <td>2</td>\n",
       "      <td>♪ I feel it in my fingers ♪ I feel it in my to...</td>\n",
       "      <td>Billy</td>\n",
       "      <td>Bill Nighy</td>\n",
       "      <td>Billy (Bill Nighy)</td>\n",
       "    </tr>\n",
       "    <tr>\n",
       "      <th>36</th>\n",
       "      <td>2</td>\n",
       "      <td>3</td>\n",
       "      <td>I'm afraid you did it again, Bill.</td>\n",
       "      <td>Joe</td>\n",
       "      <td>Gregor Fisher</td>\n",
       "      <td>Joe (Gregor Fisher)</td>\n",
       "    </tr>\n",
       "    <tr>\n",
       "      <th>1</th>\n",
       "      <td>2</td>\n",
       "      <td>4</td>\n",
       "      <td>It's just I know the old version so well, you ...</td>\n",
       "      <td>Billy</td>\n",
       "      <td>Bill Nighy</td>\n",
       "      <td>Billy (Bill Nighy)</td>\n",
       "    </tr>\n",
       "    <tr>\n",
       "      <th>37</th>\n",
       "      <td>2</td>\n",
       "      <td>5</td>\n",
       "      <td>Well, we all do. That's why we're making the n...</td>\n",
       "      <td>Joe</td>\n",
       "      <td>Gregor Fisher</td>\n",
       "      <td>Joe (Gregor Fisher)</td>\n",
       "    </tr>\n",
       "    <tr>\n",
       "      <th>2</th>\n",
       "      <td>2</td>\n",
       "      <td>6</td>\n",
       "      <td>Right, OK, let's go. ♪ I feel it in my fingers...</td>\n",
       "      <td>Billy</td>\n",
       "      <td>Bill Nighy</td>\n",
       "      <td>Billy (Bill Nighy)</td>\n",
       "    </tr>\n",
       "    <tr>\n",
       "      <th>3</th>\n",
       "      <td>2</td>\n",
       "      <td>7</td>\n",
       "      <td>Oh, fuck, wank, bugger, shitting, arsehead and...</td>\n",
       "      <td>Billy</td>\n",
       "      <td>Bill Nighy</td>\n",
       "      <td>Billy (Bill Nighy)</td>\n",
       "    </tr>\n",
       "    <tr>\n",
       "      <th>4</th>\n",
       "      <td>2</td>\n",
       "      <td>8</td>\n",
       "      <td>This is shit, isn't it?</td>\n",
       "      <td>Billy</td>\n",
       "      <td>Bill Nighy</td>\n",
       "      <td>Billy (Bill Nighy)</td>\n",
       "    </tr>\n",
       "    <tr>\n",
       "      <th>38</th>\n",
       "      <td>2</td>\n",
       "      <td>9</td>\n",
       "      <td>Yup, solid gold shit, Maestro.</td>\n",
       "      <td>Joe</td>\n",
       "      <td>Gregor Fisher</td>\n",
       "      <td>Joe (Gregor Fisher)</td>\n",
       "    </tr>\n",
       "    <tr>\n",
       "      <th>51</th>\n",
       "      <td>3</td>\n",
       "      <td>10</td>\n",
       "      <td>God, I'm so late.</td>\n",
       "      <td>Jamie</td>\n",
       "      <td>Colin Firth</td>\n",
       "      <td>Jamie (Colin Firth)</td>\n",
       "    </tr>\n",
       "    <tr>\n",
       "      <th>52</th>\n",
       "      <td>3</td>\n",
       "      <td>12</td>\n",
       "      <td>You sure you don't mind me going without you?</td>\n",
       "      <td>Jamie</td>\n",
       "      <td>Colin Firth</td>\n",
       "      <td>Jamie (Colin Firth)</td>\n",
       "    </tr>\n",
       "    <tr>\n",
       "      <th>53</th>\n",
       "      <td>3</td>\n",
       "      <td>14</td>\n",
       "      <td>I love you.</td>\n",
       "      <td>Jamie</td>\n",
       "      <td>Colin Firth</td>\n",
       "      <td>Jamie (Colin Firth)</td>\n",
       "    </tr>\n",
       "    <tr>\n",
       "      <th>54</th>\n",
       "      <td>3</td>\n",
       "      <td>16</td>\n",
       "      <td>I love you even when you're sick and look disg...</td>\n",
       "      <td>Jamie</td>\n",
       "      <td>Colin Firth</td>\n",
       "      <td>Jamie (Colin Firth)</td>\n",
       "    </tr>\n",
       "    <tr>\n",
       "      <th>55</th>\n",
       "      <td>3</td>\n",
       "      <td>18</td>\n",
       "      <td>Right. Did I mention that I love you?</td>\n",
       "      <td>Jamie</td>\n",
       "      <td>Colin Firth</td>\n",
       "      <td>Jamie (Colin Firth)</td>\n",
       "    </tr>\n",
       "    <tr>\n",
       "      <th>107</th>\n",
       "      <td>4</td>\n",
       "      <td>20</td>\n",
       "      <td>Karen, it's me again. I'm sorry, I literally d...</td>\n",
       "      <td>Daniel</td>\n",
       "      <td>Liam Neeson</td>\n",
       "      <td>Daniel (Liam Neeson)</td>\n",
       "    </tr>\n",
       "    <tr>\n",
       "      <th>173</th>\n",
       "      <td>4</td>\n",
       "      <td>21</td>\n",
       "      <td>Absolutely. Horrible moment, though. Can I cal...</td>\n",
       "      <td>Karen</td>\n",
       "      <td>Emma Thompson</td>\n",
       "      <td>Karen (Emma Thompson)</td>\n",
       "    </tr>\n",
       "  </tbody>\n",
       "</table>\n",
       "</div>"
      ],
      "text/plain": [
       "     scene  line                                           dialogue speaker  \\\n",
       "0        2     2  ♪ I feel it in my fingers ♪ I feel it in my to...   Billy   \n",
       "36       2     3                 I'm afraid you did it again, Bill.     Joe   \n",
       "1        2     4  It's just I know the old version so well, you ...   Billy   \n",
       "37       2     5  Well, we all do. That's why we're making the n...     Joe   \n",
       "2        2     6  Right, OK, let's go. ♪ I feel it in my fingers...   Billy   \n",
       "3        2     7  Oh, fuck, wank, bugger, shitting, arsehead and...   Billy   \n",
       "4        2     8                            This is shit, isn't it?   Billy   \n",
       "38       2     9                     Yup, solid gold shit, Maestro.     Joe   \n",
       "51       3    10                                  God, I'm so late.   Jamie   \n",
       "52       3    12      You sure you don't mind me going without you?   Jamie   \n",
       "53       3    14                                        I love you.   Jamie   \n",
       "54       3    16  I love you even when you're sick and look disg...   Jamie   \n",
       "55       3    18              Right. Did I mention that I love you?   Jamie   \n",
       "107      4    20  Karen, it's me again. I'm sorry, I literally d...  Daniel   \n",
       "173      4    21  Absolutely. Horrible moment, though. Can I cal...   Karen   \n",
       "\n",
       "             actor              character  \n",
       "0       Bill Nighy     Billy (Bill Nighy)  \n",
       "36   Gregor Fisher    Joe (Gregor Fisher)  \n",
       "1       Bill Nighy     Billy (Bill Nighy)  \n",
       "37   Gregor Fisher    Joe (Gregor Fisher)  \n",
       "2       Bill Nighy     Billy (Bill Nighy)  \n",
       "3       Bill Nighy     Billy (Bill Nighy)  \n",
       "4       Bill Nighy     Billy (Bill Nighy)  \n",
       "38   Gregor Fisher    Joe (Gregor Fisher)  \n",
       "51     Colin Firth    Jamie (Colin Firth)  \n",
       "52     Colin Firth    Jamie (Colin Firth)  \n",
       "53     Colin Firth    Jamie (Colin Firth)  \n",
       "54     Colin Firth    Jamie (Colin Firth)  \n",
       "55     Colin Firth    Jamie (Colin Firth)  \n",
       "107    Liam Neeson   Daniel (Liam Neeson)  \n",
       "173  Emma Thompson  Karen (Emma Thompson)  "
      ]
     },
     "execution_count": 20,
     "metadata": {},
     "output_type": "execute_result"
    }
   ],
   "source": [
    "lines[:15]"
   ]
  }
 ],
 "metadata": {
  "kernelspec": {
   "display_name": "Python [Root]",
   "language": "python",
   "name": "Python [Root]"
  },
  "language_info": {
   "codemirror_mode": {
    "name": "ipython",
    "version": 3
   },
   "file_extension": ".py",
   "mimetype": "text/x-python",
   "name": "python",
   "nbconvert_exporter": "python",
   "pygments_lexer": "ipython3",
   "version": "3.5.2"
  }
 },
 "nbformat": 4,
 "nbformat_minor": 0
}

{
 "cells": [
  {
   "cell_type": "markdown",
   "metadata": {},
   "source": [
    "# Analyzing networks of characters in _Love Actually_ in Python\n",
    "\n",
    "Source material in R: http://varianceexplained.org/r/love-actually-network/"
   ]
  },
  {
   "cell_type": "markdown",
   "metadata": {},
   "source": [
    "Making sure my Anaconda installation is equivalent to Python [Root] here..."
   ]
  },
  {
   "cell_type": "code",
   "execution_count": 1,
   "metadata": {
    "collapsed": false
   },
   "outputs": [
    {
     "name": "stdout",
     "output_type": "stream",
     "text": [
      "/cygdrive/c/users/narho_000/anaconda3/python\n"
     ]
    }
   ],
   "source": [
    "!which python"
   ]
  },
  {
   "cell_type": "markdown",
   "metadata": {},
   "source": [
    "**David's original stated goal**: \"Visualize the connections quantitatively, based on how often characters share scenes.\"\n",
    "\n",
    "Tasks accomplished in R:\n",
    "1. Organize the raw data into a table\n",
    "2. Create a binary speaker-by-scene matrix\n",
    "5. Hierarchical clustering\n",
    "6. Timeline visualization\n",
    "7. Coocurrence heatmap\n",
    "8. Network graph visualization\n",
    "9. Output data frame in a way R can consume for Shiny app usage\n",
    "\n",
    "Tasks 1-2 are data munging/parsing/tidying. 3-6 are analysis and visualization. Task 7 is R-friendly output."
   ]
  },
  {
   "cell_type": "markdown",
   "metadata": {},
   "source": [
    "## Organize the raw data into a table\n",
    "\n",
    "**Section subgoals**: read in script lines; map characters to actors; transform script into a data frame with scene#, line#, character speaking, line of dialogue, and actor\n",
    "\n",
    "David uses the R package `dplyr` extensively (along with a little `stringr` and `tidyr`) and in a very dense way to perform reach this goal. We'll need to unpack this in order to understand and then translate it to Python."
   ]
  },
  {
   "cell_type": "code",
   "execution_count": 2,
   "metadata": {
    "collapsed": false
   },
   "outputs": [],
   "source": [
    "import os\n",
    "\n",
    "BASE_DIR = os.getcwd()\n",
    "RAWDATA_DIR = BASE_DIR + '/rawdata'\n",
    "\n",
    "raw_script = RAWDATA_DIR + '/love_actually.txt'\n",
    "cast_csv = RAWDATA_DIR + '/love_actually_cast.csv'"
   ]
  },
  {
   "cell_type": "code",
   "execution_count": 3,
   "metadata": {
    "collapsed": false
   },
   "outputs": [
    {
     "data": {
      "text/html": [
       "<div>\n",
       "<table border=\"1\" class=\"dataframe\">\n",
       "  <thead>\n",
       "    <tr style=\"text-align: right;\">\n",
       "      <th></th>\n",
       "      <th>raw</th>\n",
       "    </tr>\n",
       "  </thead>\n",
       "  <tbody>\n",
       "    <tr>\n",
       "      <th>0</th>\n",
       "      <td>﻿Love Actually Scripts\\n</td>\n",
       "    </tr>\n",
       "    <tr>\n",
       "      <th>1</th>\n",
       "      <td>\\n</td>\n",
       "    </tr>\n",
       "    <tr>\n",
       "      <th>2</th>\n",
       "      <td>\\n</td>\n",
       "    </tr>\n",
       "    <tr>\n",
       "      <th>3</th>\n",
       "      <td>\\n</td>\n",
       "    </tr>\n",
       "    <tr>\n",
       "      <th>4</th>\n",
       "      <td>[ Scene #1 ]\\n</td>\n",
       "    </tr>\n",
       "    <tr>\n",
       "      <th>5</th>\n",
       "      <td>(Man): 'Whenever I get gloomy with the state o...</td>\n",
       "    </tr>\n",
       "    <tr>\n",
       "      <th>6</th>\n",
       "      <td>I think about the arrival's gate at Heathrow...</td>\n",
       "    </tr>\n",
       "    <tr>\n",
       "      <th>7</th>\n",
       "      <td>General opinion started to make out that we ...</td>\n",
       "    </tr>\n",
       "    <tr>\n",
       "      <th>8</th>\n",
       "      <td>but I don't see that. Seems to me that love ...</td>\n",
       "    </tr>\n",
       "    <tr>\n",
       "      <th>9</th>\n",
       "      <td>Often it's not particularly dignified or new...</td>\n",
       "    </tr>\n",
       "  </tbody>\n",
       "</table>\n",
       "</div>"
      ],
      "text/plain": [
       "                                                 raw\n",
       "0                           ﻿Love Actually Scripts\\n\n",
       "1                                                 \\n\n",
       "2                                                 \\n\n",
       "3                                                 \\n\n",
       "4                                     [ Scene #1 ]\\n\n",
       "5  (Man): 'Whenever I get gloomy with the state o...\n",
       "6    I think about the arrival's gate at Heathrow...\n",
       "7    General opinion started to make out that we ...\n",
       "8    but I don't see that. Seems to me that love ...\n",
       "9    Often it's not particularly dignified or new..."
      ]
     },
     "execution_count": 3,
     "metadata": {},
     "output_type": "execute_result"
    }
   ],
   "source": [
    "from pandas import DataFrame\n",
    "import pandas as pd\n",
    "import numpy as np\n",
    "\n",
    "# read in the script\n",
    "with open(raw_script, 'r', encoding='utf8') as s:\n",
    "    raw_df = DataFrame({'raw': s.readlines()})\n",
    "raw_df[:10]"
   ]
  },
  {
   "cell_type": "code",
   "execution_count": 4,
   "metadata": {
    "collapsed": false
   },
   "outputs": [
    {
     "data": {
      "text/plain": [
       "1437"
      ]
     },
     "execution_count": 4,
     "metadata": {},
     "output_type": "execute_result"
    }
   ],
   "source": [
    "len(raw_df)"
   ]
  },
  {
   "cell_type": "code",
   "execution_count": 5,
   "metadata": {
    "collapsed": false
   },
   "outputs": [],
   "source": [
    "# used for displaying full data while debugging using the form HTML(data.to_html())\n",
    "#from IPython.display import HTML"
   ]
  },
  {
   "cell_type": "code",
   "execution_count": 6,
   "metadata": {
    "collapsed": false
   },
   "outputs": [],
   "source": [
    "# filter out new/empty lines and lines annotated as songs\n",
    "lines = DataFrame(raw_df[(raw_df.raw.str.strip() != '') & ~(raw_df.raw.str.contains('\\(song\\)'))])"
   ]
  },
  {
   "cell_type": "code",
   "execution_count": 7,
   "metadata": {
    "collapsed": false
   },
   "outputs": [
    {
     "data": {
      "text/plain": [
       "1265"
      ]
     },
     "execution_count": 7,
     "metadata": {},
     "output_type": "execute_result"
    }
   ],
   "source": [
    "len(lines)"
   ]
  },
  {
   "cell_type": "code",
   "execution_count": 8,
   "metadata": {
    "collapsed": false
   },
   "outputs": [
    {
     "data": {
      "text/html": [
       "<div>\n",
       "<table border=\"1\" class=\"dataframe\">\n",
       "  <thead>\n",
       "    <tr style=\"text-align: right;\">\n",
       "      <th></th>\n",
       "      <th>raw</th>\n",
       "    </tr>\n",
       "  </thead>\n",
       "  <tbody>\n",
       "    <tr>\n",
       "      <th>0</th>\n",
       "      <td>﻿Love Actually Scripts\\n</td>\n",
       "    </tr>\n",
       "    <tr>\n",
       "      <th>4</th>\n",
       "      <td>[ Scene #1 ]\\n</td>\n",
       "    </tr>\n",
       "    <tr>\n",
       "      <th>5</th>\n",
       "      <td>(Man): 'Whenever I get gloomy with the state o...</td>\n",
       "    </tr>\n",
       "    <tr>\n",
       "      <th>6</th>\n",
       "      <td>I think about the arrival's gate at Heathrow...</td>\n",
       "    </tr>\n",
       "    <tr>\n",
       "      <th>7</th>\n",
       "      <td>General opinion started to make out that we ...</td>\n",
       "    </tr>\n",
       "    <tr>\n",
       "      <th>8</th>\n",
       "      <td>but I don't see that. Seems to me that love ...</td>\n",
       "    </tr>\n",
       "    <tr>\n",
       "      <th>9</th>\n",
       "      <td>Often it's not particularly dignified or new...</td>\n",
       "    </tr>\n",
       "    <tr>\n",
       "      <th>10</th>\n",
       "      <td>Fathers and sons, mothers and daughters, hus...</td>\n",
       "    </tr>\n",
       "    <tr>\n",
       "      <th>11</th>\n",
       "      <td>When the planes hit the Twin Towers, as far ...</td>\n",
       "    </tr>\n",
       "    <tr>\n",
       "      <th>12</th>\n",
       "      <td>none of the phone calls from people on board...</td>\n",
       "    </tr>\n",
       "  </tbody>\n",
       "</table>\n",
       "</div>"
      ],
      "text/plain": [
       "                                                  raw\n",
       "0                            ﻿Love Actually Scripts\\n\n",
       "4                                      [ Scene #1 ]\\n\n",
       "5   (Man): 'Whenever I get gloomy with the state o...\n",
       "6     I think about the arrival's gate at Heathrow...\n",
       "7     General opinion started to make out that we ...\n",
       "8     but I don't see that. Seems to me that love ...\n",
       "9     Often it's not particularly dignified or new...\n",
       "10    Fathers and sons, mothers and daughters, hus...\n",
       "11    When the planes hit the Twin Towers, as far ...\n",
       "12    none of the phone calls from people on board..."
      ]
     },
     "execution_count": 8,
     "metadata": {},
     "output_type": "execute_result"
    }
   ],
   "source": [
    "lines[:10]"
   ]
  },
  {
   "cell_type": "code",
   "execution_count": 9,
   "metadata": {
    "collapsed": false
   },
   "outputs": [],
   "source": [
    "# mutate: add new columns to annotate scene markers and then calculate scene numbers for each line, based on markers.\n",
    "\n",
    "lines['is_scene'] = np.where(lines.raw.str.contains(\"\\[ Scene #\"), True, False)\n",
    "# fortunately, numpy has a cumsum method like R\n",
    "lines['scene'] = np.cumsum(np.where(lines.raw.str.contains(\"\\[ Scene #\"), True, False))"
   ]
  },
  {
   "cell_type": "code",
   "execution_count": 10,
   "metadata": {
    "collapsed": false
   },
   "outputs": [
    {
     "data": {
      "text/html": [
       "<div>\n",
       "<table border=\"1\" class=\"dataframe\">\n",
       "  <thead>\n",
       "    <tr style=\"text-align: right;\">\n",
       "      <th></th>\n",
       "      <th>raw</th>\n",
       "      <th>is_scene</th>\n",
       "      <th>scene</th>\n",
       "    </tr>\n",
       "  </thead>\n",
       "  <tbody>\n",
       "    <tr>\n",
       "      <th>0</th>\n",
       "      <td>﻿Love Actually Scripts\\n</td>\n",
       "      <td>False</td>\n",
       "      <td>0</td>\n",
       "    </tr>\n",
       "    <tr>\n",
       "      <th>4</th>\n",
       "      <td>[ Scene #1 ]\\n</td>\n",
       "      <td>True</td>\n",
       "      <td>1</td>\n",
       "    </tr>\n",
       "    <tr>\n",
       "      <th>5</th>\n",
       "      <td>(Man): 'Whenever I get gloomy with the state o...</td>\n",
       "      <td>False</td>\n",
       "      <td>1</td>\n",
       "    </tr>\n",
       "    <tr>\n",
       "      <th>6</th>\n",
       "      <td>I think about the arrival's gate at Heathrow...</td>\n",
       "      <td>False</td>\n",
       "      <td>1</td>\n",
       "    </tr>\n",
       "    <tr>\n",
       "      <th>7</th>\n",
       "      <td>General opinion started to make out that we ...</td>\n",
       "      <td>False</td>\n",
       "      <td>1</td>\n",
       "    </tr>\n",
       "    <tr>\n",
       "      <th>8</th>\n",
       "      <td>but I don't see that. Seems to me that love ...</td>\n",
       "      <td>False</td>\n",
       "      <td>1</td>\n",
       "    </tr>\n",
       "    <tr>\n",
       "      <th>9</th>\n",
       "      <td>Often it's not particularly dignified or new...</td>\n",
       "      <td>False</td>\n",
       "      <td>1</td>\n",
       "    </tr>\n",
       "    <tr>\n",
       "      <th>10</th>\n",
       "      <td>Fathers and sons, mothers and daughters, hus...</td>\n",
       "      <td>False</td>\n",
       "      <td>1</td>\n",
       "    </tr>\n",
       "    <tr>\n",
       "      <th>11</th>\n",
       "      <td>When the planes hit the Twin Towers, as far ...</td>\n",
       "      <td>False</td>\n",
       "      <td>1</td>\n",
       "    </tr>\n",
       "    <tr>\n",
       "      <th>12</th>\n",
       "      <td>none of the phone calls from people on board...</td>\n",
       "      <td>False</td>\n",
       "      <td>1</td>\n",
       "    </tr>\n",
       "  </tbody>\n",
       "</table>\n",
       "</div>"
      ],
      "text/plain": [
       "                                                  raw is_scene  scene\n",
       "0                            ﻿Love Actually Scripts\\n    False      0\n",
       "4                                      [ Scene #1 ]\\n     True      1\n",
       "5   (Man): 'Whenever I get gloomy with the state o...    False      1\n",
       "6     I think about the arrival's gate at Heathrow...    False      1\n",
       "7     General opinion started to make out that we ...    False      1\n",
       "8     but I don't see that. Seems to me that love ...    False      1\n",
       "9     Often it's not particularly dignified or new...    False      1\n",
       "10    Fathers and sons, mothers and daughters, hus...    False      1\n",
       "11    When the planes hit the Twin Towers, as far ...    False      1\n",
       "12    none of the phone calls from people on board...    False      1"
      ]
     },
     "execution_count": 10,
     "metadata": {},
     "output_type": "execute_result"
    }
   ],
   "source": [
    "lines[:10]"
   ]
  },
  {
   "cell_type": "code",
   "execution_count": 11,
   "metadata": {
    "collapsed": false
   },
   "outputs": [],
   "source": [
    "# clean up now that we're done with the is_scene column\n",
    "lines = lines[~lines.is_scene] # filter out scene markers\n",
    "lines = lines.drop('is_scene', axis=1) # remove is_scene column"
   ]
  },
  {
   "cell_type": "code",
   "execution_count": 12,
   "metadata": {
    "collapsed": false
   },
   "outputs": [
    {
     "data": {
      "text/html": [
       "<div>\n",
       "<table border=\"1\" class=\"dataframe\">\n",
       "  <thead>\n",
       "    <tr style=\"text-align: right;\">\n",
       "      <th></th>\n",
       "      <th>raw</th>\n",
       "      <th>scene</th>\n",
       "    </tr>\n",
       "  </thead>\n",
       "  <tbody>\n",
       "    <tr>\n",
       "      <th>0</th>\n",
       "      <td>﻿Love Actually Scripts\\n</td>\n",
       "      <td>0</td>\n",
       "    </tr>\n",
       "    <tr>\n",
       "      <th>5</th>\n",
       "      <td>(Man): 'Whenever I get gloomy with the state o...</td>\n",
       "      <td>1</td>\n",
       "    </tr>\n",
       "    <tr>\n",
       "      <th>6</th>\n",
       "      <td>I think about the arrival's gate at Heathrow...</td>\n",
       "      <td>1</td>\n",
       "    </tr>\n",
       "    <tr>\n",
       "      <th>7</th>\n",
       "      <td>General opinion started to make out that we ...</td>\n",
       "      <td>1</td>\n",
       "    </tr>\n",
       "    <tr>\n",
       "      <th>8</th>\n",
       "      <td>but I don't see that. Seems to me that love ...</td>\n",
       "      <td>1</td>\n",
       "    </tr>\n",
       "    <tr>\n",
       "      <th>9</th>\n",
       "      <td>Often it's not particularly dignified or new...</td>\n",
       "      <td>1</td>\n",
       "    </tr>\n",
       "    <tr>\n",
       "      <th>10</th>\n",
       "      <td>Fathers and sons, mothers and daughters, hus...</td>\n",
       "      <td>1</td>\n",
       "    </tr>\n",
       "    <tr>\n",
       "      <th>11</th>\n",
       "      <td>When the planes hit the Twin Towers, as far ...</td>\n",
       "      <td>1</td>\n",
       "    </tr>\n",
       "    <tr>\n",
       "      <th>12</th>\n",
       "      <td>none of the phone calls from people on board...</td>\n",
       "      <td>1</td>\n",
       "    </tr>\n",
       "    <tr>\n",
       "      <th>13</th>\n",
       "      <td>they were all messages of love. \\n</td>\n",
       "      <td>1</td>\n",
       "    </tr>\n",
       "  </tbody>\n",
       "</table>\n",
       "</div>"
      ],
      "text/plain": [
       "                                                  raw  scene\n",
       "0                            ﻿Love Actually Scripts\\n      0\n",
       "5   (Man): 'Whenever I get gloomy with the state o...      1\n",
       "6     I think about the arrival's gate at Heathrow...      1\n",
       "7     General opinion started to make out that we ...      1\n",
       "8     but I don't see that. Seems to me that love ...      1\n",
       "9     Often it's not particularly dignified or new...      1\n",
       "10    Fathers and sons, mothers and daughters, hus...      1\n",
       "11    When the planes hit the Twin Towers, as far ...      1\n",
       "12    none of the phone calls from people on board...      1\n",
       "13                 they were all messages of love. \\n      1"
      ]
     },
     "execution_count": 12,
     "metadata": {},
     "output_type": "execute_result"
    }
   ],
   "source": [
    "lines[:10]"
   ]
  },
  {
   "cell_type": "code",
   "execution_count": 13,
   "metadata": {
    "collapsed": false
   },
   "outputs": [],
   "source": [
    "# take raw and partition by ':'\n",
    "# if partition exists, left side represents the speaker, right side the dialogue of the speaker\n",
    "# if partition does not exist, entire line is dialogue\n",
    "raw_partitioned = lines.raw.str.rpartition(':')"
   ]
  },
  {
   "cell_type": "code",
   "execution_count": 14,
   "metadata": {
    "collapsed": false
   },
   "outputs": [],
   "source": [
    "lines['speaker'] = raw_partitioned[0]\n",
    "lines['dialogue'] = raw_partitioned[2]"
   ]
  },
  {
   "cell_type": "code",
   "execution_count": 15,
   "metadata": {
    "collapsed": false
   },
   "outputs": [],
   "source": [
    "# add new column with line numbers\n",
    "lines['line'] = np.cumsum(lines.speaker != '')"
   ]
  },
  {
   "cell_type": "code",
   "execution_count": 16,
   "metadata": {
    "collapsed": false
   },
   "outputs": [
    {
     "data": {
      "text/html": [
       "<div>\n",
       "<table border=\"1\" class=\"dataframe\">\n",
       "  <thead>\n",
       "    <tr style=\"text-align: right;\">\n",
       "      <th></th>\n",
       "      <th>raw</th>\n",
       "      <th>scene</th>\n",
       "      <th>speaker</th>\n",
       "      <th>dialogue</th>\n",
       "      <th>line</th>\n",
       "    </tr>\n",
       "  </thead>\n",
       "  <tbody>\n",
       "    <tr>\n",
       "      <th>0</th>\n",
       "      <td>﻿Love Actually Scripts\\n</td>\n",
       "      <td>0</td>\n",
       "      <td></td>\n",
       "      <td>﻿Love Actually Scripts\\n</td>\n",
       "      <td>0</td>\n",
       "    </tr>\n",
       "    <tr>\n",
       "      <th>5</th>\n",
       "      <td>(Man): 'Whenever I get gloomy with the state o...</td>\n",
       "      <td>1</td>\n",
       "      <td>(Man)</td>\n",
       "      <td>'Whenever I get gloomy with the state of the ...</td>\n",
       "      <td>1</td>\n",
       "    </tr>\n",
       "    <tr>\n",
       "      <th>6</th>\n",
       "      <td>I think about the arrival's gate at Heathrow...</td>\n",
       "      <td>1</td>\n",
       "      <td></td>\n",
       "      <td>I think about the arrival's gate at Heathrow...</td>\n",
       "      <td>1</td>\n",
       "    </tr>\n",
       "    <tr>\n",
       "      <th>7</th>\n",
       "      <td>General opinion started to make out that we ...</td>\n",
       "      <td>1</td>\n",
       "      <td></td>\n",
       "      <td>General opinion started to make out that we ...</td>\n",
       "      <td>1</td>\n",
       "    </tr>\n",
       "    <tr>\n",
       "      <th>8</th>\n",
       "      <td>but I don't see that. Seems to me that love ...</td>\n",
       "      <td>1</td>\n",
       "      <td></td>\n",
       "      <td>but I don't see that. Seems to me that love ...</td>\n",
       "      <td>1</td>\n",
       "    </tr>\n",
       "    <tr>\n",
       "      <th>9</th>\n",
       "      <td>Often it's not particularly dignified or new...</td>\n",
       "      <td>1</td>\n",
       "      <td></td>\n",
       "      <td>Often it's not particularly dignified or new...</td>\n",
       "      <td>1</td>\n",
       "    </tr>\n",
       "    <tr>\n",
       "      <th>10</th>\n",
       "      <td>Fathers and sons, mothers and daughters, hus...</td>\n",
       "      <td>1</td>\n",
       "      <td></td>\n",
       "      <td>Fathers and sons, mothers and daughters, hus...</td>\n",
       "      <td>1</td>\n",
       "    </tr>\n",
       "    <tr>\n",
       "      <th>11</th>\n",
       "      <td>When the planes hit the Twin Towers, as far ...</td>\n",
       "      <td>1</td>\n",
       "      <td></td>\n",
       "      <td>When the planes hit the Twin Towers, as far ...</td>\n",
       "      <td>1</td>\n",
       "    </tr>\n",
       "    <tr>\n",
       "      <th>12</th>\n",
       "      <td>none of the phone calls from people on board...</td>\n",
       "      <td>1</td>\n",
       "      <td></td>\n",
       "      <td>none of the phone calls from people on board...</td>\n",
       "      <td>1</td>\n",
       "    </tr>\n",
       "    <tr>\n",
       "      <th>13</th>\n",
       "      <td>they were all messages of love. \\n</td>\n",
       "      <td>1</td>\n",
       "      <td></td>\n",
       "      <td>they were all messages of love. \\n</td>\n",
       "      <td>1</td>\n",
       "    </tr>\n",
       "    <tr>\n",
       "      <th>14</th>\n",
       "      <td>If you look for it, I've got a sneaky feelin...</td>\n",
       "      <td>1</td>\n",
       "      <td></td>\n",
       "      <td>If you look for it, I've got a sneaky feelin...</td>\n",
       "      <td>1</td>\n",
       "    </tr>\n",
       "    <tr>\n",
       "      <th>17</th>\n",
       "      <td>Billy: ♪ I feel it in my fingers ♪ I feel it i...</td>\n",
       "      <td>2</td>\n",
       "      <td>Billy</td>\n",
       "      <td>♪ I feel it in my fingers ♪ I feel it in my t...</td>\n",
       "      <td>2</td>\n",
       "    </tr>\n",
       "    <tr>\n",
       "      <th>18</th>\n",
       "      <td>Love is all around me And so the... ♪\\n</td>\n",
       "      <td>2</td>\n",
       "      <td></td>\n",
       "      <td>Love is all around me And so the... ♪\\n</td>\n",
       "      <td>2</td>\n",
       "    </tr>\n",
       "    <tr>\n",
       "      <th>19</th>\n",
       "      <td>Joe: I'm afraid you did it again, Bill.\\n</td>\n",
       "      <td>2</td>\n",
       "      <td>Joe</td>\n",
       "      <td>I'm afraid you did it again, Bill.\\n</td>\n",
       "      <td>3</td>\n",
       "    </tr>\n",
       "    <tr>\n",
       "      <th>20</th>\n",
       "      <td>Billy: It's just I know the old version so wel...</td>\n",
       "      <td>2</td>\n",
       "      <td>Billy</td>\n",
       "      <td>It's just I know the old version so well, you...</td>\n",
       "      <td>4</td>\n",
       "    </tr>\n",
       "  </tbody>\n",
       "</table>\n",
       "</div>"
      ],
      "text/plain": [
       "                                                  raw  scene speaker  \\\n",
       "0                            ﻿Love Actually Scripts\\n      0           \n",
       "5   (Man): 'Whenever I get gloomy with the state o...      1   (Man)   \n",
       "6     I think about the arrival's gate at Heathrow...      1           \n",
       "7     General opinion started to make out that we ...      1           \n",
       "8     but I don't see that. Seems to me that love ...      1           \n",
       "9     Often it's not particularly dignified or new...      1           \n",
       "10    Fathers and sons, mothers and daughters, hus...      1           \n",
       "11    When the planes hit the Twin Towers, as far ...      1           \n",
       "12    none of the phone calls from people on board...      1           \n",
       "13                 they were all messages of love. \\n      1           \n",
       "14    If you look for it, I've got a sneaky feelin...      1           \n",
       "17  Billy: ♪ I feel it in my fingers ♪ I feel it i...      2   Billy   \n",
       "18            Love is all around me And so the... ♪\\n      2           \n",
       "19          Joe: I'm afraid you did it again, Bill.\\n      2     Joe   \n",
       "20  Billy: It's just I know the old version so wel...      2   Billy   \n",
       "\n",
       "                                             dialogue  line  \n",
       "0                            ﻿Love Actually Scripts\\n     0  \n",
       "5    'Whenever I get gloomy with the state of the ...     1  \n",
       "6     I think about the arrival's gate at Heathrow...     1  \n",
       "7     General opinion started to make out that we ...     1  \n",
       "8     but I don't see that. Seems to me that love ...     1  \n",
       "9     Often it's not particularly dignified or new...     1  \n",
       "10    Fathers and sons, mothers and daughters, hus...     1  \n",
       "11    When the planes hit the Twin Towers, as far ...     1  \n",
       "12    none of the phone calls from people on board...     1  \n",
       "13                 they were all messages of love. \\n     1  \n",
       "14    If you look for it, I've got a sneaky feelin...     1  \n",
       "17   ♪ I feel it in my fingers ♪ I feel it in my t...     2  \n",
       "18            Love is all around me And so the... ♪\\n     2  \n",
       "19               I'm afraid you did it again, Bill.\\n     3  \n",
       "20   It's just I know the old version so well, you...     4  "
      ]
     },
     "execution_count": 16,
     "metadata": {},
     "output_type": "execute_result"
    }
   ],
   "source": [
    "lines[:15]"
   ]
  },
  {
   "cell_type": "code",
   "execution_count": 17,
   "metadata": {
    "collapsed": false
   },
   "outputs": [],
   "source": [
    "# collapse dialogue belonging to the same line into one row:\n",
    "    # group by scene and line (do not index by group labels, else we'll get a weird multi-level index at the end)\n",
    "    # aggregate the dialogue across these groups (and aggregate speaker, but each line should have one speaker anyway)\n",
    "lines = lines.groupby(['scene', 'line'], as_index=False).aggregate({'dialogue': lambda x: x.str.cat().strip(), 'speaker': lambda x: x.str.cat()})"
   ]
  },
  {
   "cell_type": "code",
   "execution_count": 18,
   "metadata": {
    "collapsed": false
   },
   "outputs": [
    {
     "data": {
      "text/html": [
       "<div>\n",
       "<table border=\"1\" class=\"dataframe\">\n",
       "  <thead>\n",
       "    <tr style=\"text-align: right;\">\n",
       "      <th></th>\n",
       "      <th>scene</th>\n",
       "      <th>line</th>\n",
       "      <th>speaker</th>\n",
       "      <th>dialogue</th>\n",
       "    </tr>\n",
       "  </thead>\n",
       "  <tbody>\n",
       "    <tr>\n",
       "      <th>0</th>\n",
       "      <td>0</td>\n",
       "      <td>0</td>\n",
       "      <td></td>\n",
       "      <td>﻿Love Actually Scripts</td>\n",
       "    </tr>\n",
       "    <tr>\n",
       "      <th>1</th>\n",
       "      <td>1</td>\n",
       "      <td>1</td>\n",
       "      <td>(Man)</td>\n",
       "      <td>'Whenever I get gloomy with the state of the w...</td>\n",
       "    </tr>\n",
       "    <tr>\n",
       "      <th>2</th>\n",
       "      <td>2</td>\n",
       "      <td>2</td>\n",
       "      <td>Billy</td>\n",
       "      <td>♪ I feel it in my fingers ♪ I feel it in my to...</td>\n",
       "    </tr>\n",
       "    <tr>\n",
       "      <th>3</th>\n",
       "      <td>2</td>\n",
       "      <td>3</td>\n",
       "      <td>Joe</td>\n",
       "      <td>I'm afraid you did it again, Bill.</td>\n",
       "    </tr>\n",
       "    <tr>\n",
       "      <th>4</th>\n",
       "      <td>2</td>\n",
       "      <td>4</td>\n",
       "      <td>Billy</td>\n",
       "      <td>It's just I know the old version so well, you ...</td>\n",
       "    </tr>\n",
       "    <tr>\n",
       "      <th>5</th>\n",
       "      <td>2</td>\n",
       "      <td>5</td>\n",
       "      <td>Joe</td>\n",
       "      <td>Well, we all do. That's why we're making the n...</td>\n",
       "    </tr>\n",
       "    <tr>\n",
       "      <th>6</th>\n",
       "      <td>2</td>\n",
       "      <td>6</td>\n",
       "      <td>Billy</td>\n",
       "      <td>Right, OK, let's go. ♪ I feel it in my fingers...</td>\n",
       "    </tr>\n",
       "    <tr>\n",
       "      <th>7</th>\n",
       "      <td>2</td>\n",
       "      <td>7</td>\n",
       "      <td>Billy</td>\n",
       "      <td>Oh, fuck, wank, bugger, shitting, arsehead and...</td>\n",
       "    </tr>\n",
       "    <tr>\n",
       "      <th>8</th>\n",
       "      <td>2</td>\n",
       "      <td>8</td>\n",
       "      <td>Billy</td>\n",
       "      <td>This is shit, isn't it?</td>\n",
       "    </tr>\n",
       "    <tr>\n",
       "      <th>9</th>\n",
       "      <td>2</td>\n",
       "      <td>9</td>\n",
       "      <td>Joe</td>\n",
       "      <td>Yup, solid gold shit, Maestro.</td>\n",
       "    </tr>\n",
       "  </tbody>\n",
       "</table>\n",
       "</div>"
      ],
      "text/plain": [
       "   scene  line speaker                                           dialogue\n",
       "0      0     0                                     ﻿Love Actually Scripts\n",
       "1      1     1   (Man)  'Whenever I get gloomy with the state of the w...\n",
       "2      2     2   Billy  ♪ I feel it in my fingers ♪ I feel it in my to...\n",
       "3      2     3     Joe                 I'm afraid you did it again, Bill.\n",
       "4      2     4   Billy  It's just I know the old version so well, you ...\n",
       "5      2     5     Joe  Well, we all do. That's why we're making the n...\n",
       "6      2     6   Billy  Right, OK, let's go. ♪ I feel it in my fingers...\n",
       "7      2     7   Billy  Oh, fuck, wank, bugger, shitting, arsehead and...\n",
       "8      2     8   Billy                            This is shit, isn't it?\n",
       "9      2     9     Joe                     Yup, solid gold shit, Maestro."
      ]
     },
     "execution_count": 18,
     "metadata": {},
     "output_type": "execute_result"
    }
   ],
   "source": [
    "lines[:10]"
   ]
  },
  {
   "cell_type": "markdown",
   "metadata": {},
   "source": [
    "^Note that David did everything so far in one (extremely) dense line of code with a bunch of piping!"
   ]
  },
  {
   "cell_type": "code",
   "execution_count": 19,
   "metadata": {
    "collapsed": false
   },
   "outputs": [],
   "source": [
    "# read in the character -> actor mapping\n",
    "with open(cast_csv, 'r') as c:\n",
    "    cast = pd.read_csv(c)"
   ]
  },
  {
   "cell_type": "code",
   "execution_count": 20,
   "metadata": {
    "collapsed": false
   },
   "outputs": [],
   "source": [
    "lines = lines.merge(cast)\n",
    "lines['character'] = lines['speaker'] + ' (' + lines['actor'] + ')'\n",
    "\n",
    "# clean up the output\n",
    "lines = lines.sort_values('line').reset_index(drop=True)"
   ]
  },
  {
   "cell_type": "code",
   "execution_count": 21,
   "metadata": {
    "collapsed": false,
    "scrolled": true
   },
   "outputs": [
    {
     "data": {
      "text/html": [
       "<div>\n",
       "<table border=\"1\" class=\"dataframe\">\n",
       "  <thead>\n",
       "    <tr style=\"text-align: right;\">\n",
       "      <th></th>\n",
       "      <th>scene</th>\n",
       "      <th>line</th>\n",
       "      <th>speaker</th>\n",
       "      <th>dialogue</th>\n",
       "      <th>actor</th>\n",
       "      <th>character</th>\n",
       "    </tr>\n",
       "  </thead>\n",
       "  <tbody>\n",
       "    <tr>\n",
       "      <th>0</th>\n",
       "      <td>2</td>\n",
       "      <td>2</td>\n",
       "      <td>Billy</td>\n",
       "      <td>♪ I feel it in my fingers ♪ I feel it in my to...</td>\n",
       "      <td>Bill Nighy</td>\n",
       "      <td>Billy (Bill Nighy)</td>\n",
       "    </tr>\n",
       "    <tr>\n",
       "      <th>1</th>\n",
       "      <td>2</td>\n",
       "      <td>3</td>\n",
       "      <td>Joe</td>\n",
       "      <td>I'm afraid you did it again, Bill.</td>\n",
       "      <td>Gregor Fisher</td>\n",
       "      <td>Joe (Gregor Fisher)</td>\n",
       "    </tr>\n",
       "    <tr>\n",
       "      <th>2</th>\n",
       "      <td>2</td>\n",
       "      <td>4</td>\n",
       "      <td>Billy</td>\n",
       "      <td>It's just I know the old version so well, you ...</td>\n",
       "      <td>Bill Nighy</td>\n",
       "      <td>Billy (Bill Nighy)</td>\n",
       "    </tr>\n",
       "    <tr>\n",
       "      <th>3</th>\n",
       "      <td>2</td>\n",
       "      <td>5</td>\n",
       "      <td>Joe</td>\n",
       "      <td>Well, we all do. That's why we're making the n...</td>\n",
       "      <td>Gregor Fisher</td>\n",
       "      <td>Joe (Gregor Fisher)</td>\n",
       "    </tr>\n",
       "    <tr>\n",
       "      <th>4</th>\n",
       "      <td>2</td>\n",
       "      <td>6</td>\n",
       "      <td>Billy</td>\n",
       "      <td>Right, OK, let's go. ♪ I feel it in my fingers...</td>\n",
       "      <td>Bill Nighy</td>\n",
       "      <td>Billy (Bill Nighy)</td>\n",
       "    </tr>\n",
       "    <tr>\n",
       "      <th>5</th>\n",
       "      <td>2</td>\n",
       "      <td>7</td>\n",
       "      <td>Billy</td>\n",
       "      <td>Oh, fuck, wank, bugger, shitting, arsehead and...</td>\n",
       "      <td>Bill Nighy</td>\n",
       "      <td>Billy (Bill Nighy)</td>\n",
       "    </tr>\n",
       "    <tr>\n",
       "      <th>6</th>\n",
       "      <td>2</td>\n",
       "      <td>8</td>\n",
       "      <td>Billy</td>\n",
       "      <td>This is shit, isn't it?</td>\n",
       "      <td>Bill Nighy</td>\n",
       "      <td>Billy (Bill Nighy)</td>\n",
       "    </tr>\n",
       "    <tr>\n",
       "      <th>7</th>\n",
       "      <td>2</td>\n",
       "      <td>9</td>\n",
       "      <td>Joe</td>\n",
       "      <td>Yup, solid gold shit, Maestro.</td>\n",
       "      <td>Gregor Fisher</td>\n",
       "      <td>Joe (Gregor Fisher)</td>\n",
       "    </tr>\n",
       "    <tr>\n",
       "      <th>8</th>\n",
       "      <td>3</td>\n",
       "      <td>10</td>\n",
       "      <td>Jamie</td>\n",
       "      <td>God, I'm so late.</td>\n",
       "      <td>Colin Firth</td>\n",
       "      <td>Jamie (Colin Firth)</td>\n",
       "    </tr>\n",
       "    <tr>\n",
       "      <th>9</th>\n",
       "      <td>3</td>\n",
       "      <td>11</td>\n",
       "      <td>Kataya</td>\n",
       "      <td>It's just round the corner, you'll make it.</td>\n",
       "      <td>Sienna Guillory</td>\n",
       "      <td>Kataya (Sienna Guillory)</td>\n",
       "    </tr>\n",
       "    <tr>\n",
       "      <th>10</th>\n",
       "      <td>3</td>\n",
       "      <td>12</td>\n",
       "      <td>Jamie</td>\n",
       "      <td>You sure you don't mind me going without you?</td>\n",
       "      <td>Colin Firth</td>\n",
       "      <td>Jamie (Colin Firth)</td>\n",
       "    </tr>\n",
       "    <tr>\n",
       "      <th>11</th>\n",
       "      <td>3</td>\n",
       "      <td>13</td>\n",
       "      <td>Kataya</td>\n",
       "      <td>No, really. I'm just feeling so rotten.</td>\n",
       "      <td>Sienna Guillory</td>\n",
       "      <td>Kataya (Sienna Guillory)</td>\n",
       "    </tr>\n",
       "    <tr>\n",
       "      <th>12</th>\n",
       "      <td>3</td>\n",
       "      <td>14</td>\n",
       "      <td>Jamie</td>\n",
       "      <td>I love you.</td>\n",
       "      <td>Colin Firth</td>\n",
       "      <td>Jamie (Colin Firth)</td>\n",
       "    </tr>\n",
       "    <tr>\n",
       "      <th>13</th>\n",
       "      <td>3</td>\n",
       "      <td>15</td>\n",
       "      <td>Kataya</td>\n",
       "      <td>I know.</td>\n",
       "      <td>Sienna Guillory</td>\n",
       "      <td>Kataya (Sienna Guillory)</td>\n",
       "    </tr>\n",
       "    <tr>\n",
       "      <th>14</th>\n",
       "      <td>3</td>\n",
       "      <td>16</td>\n",
       "      <td>Jamie</td>\n",
       "      <td>I love you even when you're sick and look disg...</td>\n",
       "      <td>Colin Firth</td>\n",
       "      <td>Jamie (Colin Firth)</td>\n",
       "    </tr>\n",
       "  </tbody>\n",
       "</table>\n",
       "</div>"
      ],
      "text/plain": [
       "    scene  line speaker                                           dialogue  \\\n",
       "0       2     2   Billy  ♪ I feel it in my fingers ♪ I feel it in my to...   \n",
       "1       2     3     Joe                 I'm afraid you did it again, Bill.   \n",
       "2       2     4   Billy  It's just I know the old version so well, you ...   \n",
       "3       2     5     Joe  Well, we all do. That's why we're making the n...   \n",
       "4       2     6   Billy  Right, OK, let's go. ♪ I feel it in my fingers...   \n",
       "5       2     7   Billy  Oh, fuck, wank, bugger, shitting, arsehead and...   \n",
       "6       2     8   Billy                            This is shit, isn't it?   \n",
       "7       2     9     Joe                     Yup, solid gold shit, Maestro.   \n",
       "8       3    10   Jamie                                  God, I'm so late.   \n",
       "9       3    11  Kataya        It's just round the corner, you'll make it.   \n",
       "10      3    12   Jamie      You sure you don't mind me going without you?   \n",
       "11      3    13  Kataya            No, really. I'm just feeling so rotten.   \n",
       "12      3    14   Jamie                                        I love you.   \n",
       "13      3    15  Kataya                                            I know.   \n",
       "14      3    16   Jamie  I love you even when you're sick and look disg...   \n",
       "\n",
       "              actor                 character  \n",
       "0        Bill Nighy        Billy (Bill Nighy)  \n",
       "1     Gregor Fisher       Joe (Gregor Fisher)  \n",
       "2        Bill Nighy        Billy (Bill Nighy)  \n",
       "3     Gregor Fisher       Joe (Gregor Fisher)  \n",
       "4        Bill Nighy        Billy (Bill Nighy)  \n",
       "5        Bill Nighy        Billy (Bill Nighy)  \n",
       "6        Bill Nighy        Billy (Bill Nighy)  \n",
       "7     Gregor Fisher       Joe (Gregor Fisher)  \n",
       "8       Colin Firth       Jamie (Colin Firth)  \n",
       "9   Sienna Guillory  Kataya (Sienna Guillory)  \n",
       "10      Colin Firth       Jamie (Colin Firth)  \n",
       "11  Sienna Guillory  Kataya (Sienna Guillory)  \n",
       "12      Colin Firth       Jamie (Colin Firth)  \n",
       "13  Sienna Guillory  Kataya (Sienna Guillory)  \n",
       "14      Colin Firth       Jamie (Colin Firth)  "
      ]
     },
     "execution_count": 21,
     "metadata": {},
     "output_type": "execute_result"
    }
   ],
   "source": [
    "lines[:15]"
   ]
  },
  {
   "cell_type": "markdown",
   "metadata": {},
   "source": [
    "## Create a binary speaker-by-scene matrix\n",
    "\n",
    "**Section subgoals**: count lines per scene per character"
   ]
  },
  {
   "cell_type": "code",
   "execution_count": 22,
   "metadata": {
    "collapsed": false
   },
   "outputs": [],
   "source": [
    "by_speaker_scene = lines.groupby(['scene', 'character'], as_index=False).size().reset_index(name='n')"
   ]
  },
  {
   "cell_type": "code",
   "execution_count": 23,
   "metadata": {
    "collapsed": false
   },
   "outputs": [
    {
     "data": {
      "text/html": [
       "<div>\n",
       "<table border=\"1\" class=\"dataframe\">\n",
       "  <thead>\n",
       "    <tr style=\"text-align: right;\">\n",
       "      <th></th>\n",
       "      <th>scene</th>\n",
       "      <th>character</th>\n",
       "      <th>n</th>\n",
       "    </tr>\n",
       "  </thead>\n",
       "  <tbody>\n",
       "    <tr>\n",
       "      <th>0</th>\n",
       "      <td>2</td>\n",
       "      <td>Billy (Bill Nighy)</td>\n",
       "      <td>5</td>\n",
       "    </tr>\n",
       "    <tr>\n",
       "      <th>1</th>\n",
       "      <td>2</td>\n",
       "      <td>Joe (Gregor Fisher)</td>\n",
       "      <td>3</td>\n",
       "    </tr>\n",
       "    <tr>\n",
       "      <th>2</th>\n",
       "      <td>3</td>\n",
       "      <td>Jamie (Colin Firth)</td>\n",
       "      <td>5</td>\n",
       "    </tr>\n",
       "    <tr>\n",
       "      <th>3</th>\n",
       "      <td>3</td>\n",
       "      <td>Kataya (Sienna Guillory)</td>\n",
       "      <td>5</td>\n",
       "    </tr>\n",
       "    <tr>\n",
       "      <th>4</th>\n",
       "      <td>4</td>\n",
       "      <td>Daniel (Liam Neeson)</td>\n",
       "      <td>3</td>\n",
       "    </tr>\n",
       "    <tr>\n",
       "      <th>5</th>\n",
       "      <td>4</td>\n",
       "      <td>Karen (Emma Thompson)</td>\n",
       "      <td>6</td>\n",
       "    </tr>\n",
       "    <tr>\n",
       "      <th>6</th>\n",
       "      <td>5</td>\n",
       "      <td>Colin (Kris Marshall)</td>\n",
       "      <td>4</td>\n",
       "    </tr>\n",
       "    <tr>\n",
       "      <th>7</th>\n",
       "      <td>6</td>\n",
       "      <td>Jack (Martin Freeman)</td>\n",
       "      <td>2</td>\n",
       "    </tr>\n",
       "    <tr>\n",
       "      <th>8</th>\n",
       "      <td>6</td>\n",
       "      <td>Judy (Joanna Page)</td>\n",
       "      <td>1</td>\n",
       "    </tr>\n",
       "    <tr>\n",
       "      <th>9</th>\n",
       "      <td>7</td>\n",
       "      <td>Mark (Andrew Lincoln)</td>\n",
       "      <td>4</td>\n",
       "    </tr>\n",
       "  </tbody>\n",
       "</table>\n",
       "</div>"
      ],
      "text/plain": [
       "   scene                 character  n\n",
       "0      2        Billy (Bill Nighy)  5\n",
       "1      2       Joe (Gregor Fisher)  3\n",
       "2      3       Jamie (Colin Firth)  5\n",
       "3      3  Kataya (Sienna Guillory)  5\n",
       "4      4      Daniel (Liam Neeson)  3\n",
       "5      4     Karen (Emma Thompson)  6\n",
       "6      5     Colin (Kris Marshall)  4\n",
       "7      6     Jack (Martin Freeman)  2\n",
       "8      6        Judy (Joanna Page)  1\n",
       "9      7     Mark (Andrew Lincoln)  4"
      ]
     },
     "execution_count": 23,
     "metadata": {},
     "output_type": "execute_result"
    }
   ],
   "source": [
    "by_speaker_scene[:10]"
   ]
  },
  {
   "cell_type": "code",
   "execution_count": 24,
   "metadata": {
    "collapsed": false
   },
   "outputs": [],
   "source": [
    "speaker_scene_matrix = pd.pivot_table(by_speaker_scene, index=['character'],\n",
    "   columns=['scene'], fill_value=0, aggfunc=np.size)"
   ]
  },
  {
   "cell_type": "code",
   "execution_count": 25,
   "metadata": {
    "collapsed": false
   },
   "outputs": [
    {
     "data": {
      "text/plain": [
       "(21, 76)"
      ]
     },
     "execution_count": 25,
     "metadata": {},
     "output_type": "execute_result"
    }
   ],
   "source": [
    "speaker_scene_matrix.shape"
   ]
  },
  {
   "cell_type": "markdown",
   "metadata": {},
   "source": [
    "## Hierarchical clustering"
   ]
  }
 ],
 "metadata": {
  "kernelspec": {
   "display_name": "Python [Root]",
   "language": "python",
   "name": "Python [Root]"
  },
  "language_info": {
   "codemirror_mode": {
    "name": "ipython",
    "version": 3
   },
   "file_extension": ".py",
   "mimetype": "text/x-python",
   "name": "python",
   "nbconvert_exporter": "python",
   "pygments_lexer": "ipython3",
   "version": "3.5.2"
  }
 },
 "nbformat": 4,
 "nbformat_minor": 0
}

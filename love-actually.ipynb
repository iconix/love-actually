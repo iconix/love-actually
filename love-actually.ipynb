{
 "cells": [
  {
   "cell_type": "markdown",
   "metadata": {},
   "source": [
    "# Analyzing networks of characters in _Love Actually_ in Python\n",
    "\n",
    "Source material in R: http://varianceexplained.org/r/love-actually-network/"
   ]
  },
  {
   "cell_type": "markdown",
   "metadata": {},
   "source": [
    "Making sure my Anaconda installation is equivalent to Python [Root] here..."
   ]
  },
  {
   "cell_type": "code",
   "execution_count": 1,
   "metadata": {},
   "outputs": [
    {
     "name": "stdout",
     "output_type": "stream",
     "text": [
      "/cygdrive/c/users/narho_000/anaconda3/python\n"
     ]
    }
   ],
   "source": [
    "!which python"
   ]
  },
  {
   "cell_type": "markdown",
   "metadata": {},
   "source": [
    "**David's original stated goal**: \"Visualize the connections quantitatively, based on how often characters share scenes.\"\n",
    "\n",
    "Tasks accomplished in R:\n",
    "1. Organize the raw data into a table\n",
    "2. Create a binary speaker-by-scene matrix\n",
    "5. Hierarchical clustering\n",
    "6. Timeline visualization\n",
    "7. Coocurrence heatmap\n",
    "8. Network graph visualization\n",
    "9. Output data frame in a way R can consume for Shiny app usage\n",
    "\n",
    "Tasks 1-2 are data munging/parsing/tidying. 3-6 are analysis and visualization. Task 7 is R-friendly output."
   ]
  },
  {
   "cell_type": "markdown",
   "metadata": {},
   "source": [
    "## Organize the raw data into a table\n",
    "\n",
    "**Section subgoals**: read in script lines; map characters to actors; transform script into a data frame with scene#, line#, character speaking, line of dialogue, and actor\n",
    "\n",
    "David uses the R package `dplyr` extensively (along with a little `stringr` and `tidyr`) and in a very dense way to perform reach this goal. We'll need to unpack this in order to understand and then translate it to Python."
   ]
  },
  {
   "cell_type": "code",
   "execution_count": 2,
   "metadata": {
    "collapsed": true
   },
   "outputs": [],
   "source": [
    "import os\n",
    "\n",
    "BASE_DIR = os.getcwd()\n",
    "RAWDATA_DIR = BASE_DIR + '/rawdata'\n",
    "\n",
    "raw_script = RAWDATA_DIR + '/love_actually.txt'\n",
    "cast_csv = RAWDATA_DIR + '/love_actually_cast.csv'"
   ]
  },
  {
   "cell_type": "code",
   "execution_count": 3,
   "metadata": {},
   "outputs": [
    {
     "data": {
      "text/html": [
       "<div>\n",
       "<style>\n",
       "    .dataframe thead tr:only-child th {\n",
       "        text-align: right;\n",
       "    }\n",
       "\n",
       "    .dataframe thead th {\n",
       "        text-align: left;\n",
       "    }\n",
       "\n",
       "    .dataframe tbody tr th {\n",
       "        vertical-align: top;\n",
       "    }\n",
       "</style>\n",
       "<table border=\"1\" class=\"dataframe\">\n",
       "  <thead>\n",
       "    <tr style=\"text-align: right;\">\n",
       "      <th></th>\n",
       "      <th>raw</th>\n",
       "    </tr>\n",
       "  </thead>\n",
       "  <tbody>\n",
       "    <tr>\n",
       "      <th>0</th>\n",
       "      <td>﻿Love Actually Scripts\\n</td>\n",
       "    </tr>\n",
       "    <tr>\n",
       "      <th>1</th>\n",
       "      <td>\\n</td>\n",
       "    </tr>\n",
       "    <tr>\n",
       "      <th>2</th>\n",
       "      <td>\\n</td>\n",
       "    </tr>\n",
       "    <tr>\n",
       "      <th>3</th>\n",
       "      <td>\\n</td>\n",
       "    </tr>\n",
       "    <tr>\n",
       "      <th>4</th>\n",
       "      <td>[ Scene #1 ]\\n</td>\n",
       "    </tr>\n",
       "    <tr>\n",
       "      <th>5</th>\n",
       "      <td>(Man): 'Whenever I get gloomy with the state o...</td>\n",
       "    </tr>\n",
       "    <tr>\n",
       "      <th>6</th>\n",
       "      <td>I think about the arrival's gate at Heathrow...</td>\n",
       "    </tr>\n",
       "    <tr>\n",
       "      <th>7</th>\n",
       "      <td>General opinion started to make out that we ...</td>\n",
       "    </tr>\n",
       "    <tr>\n",
       "      <th>8</th>\n",
       "      <td>but I don't see that. Seems to me that love ...</td>\n",
       "    </tr>\n",
       "    <tr>\n",
       "      <th>9</th>\n",
       "      <td>Often it's not particularly dignified or new...</td>\n",
       "    </tr>\n",
       "  </tbody>\n",
       "</table>\n",
       "</div>"
      ],
      "text/plain": [
       "                                                 raw\n",
       "0                           ﻿Love Actually Scripts\\n\n",
       "1                                                 \\n\n",
       "2                                                 \\n\n",
       "3                                                 \\n\n",
       "4                                     [ Scene #1 ]\\n\n",
       "5  (Man): 'Whenever I get gloomy with the state o...\n",
       "6    I think about the arrival's gate at Heathrow...\n",
       "7    General opinion started to make out that we ...\n",
       "8    but I don't see that. Seems to me that love ...\n",
       "9    Often it's not particularly dignified or new..."
      ]
     },
     "execution_count": 3,
     "metadata": {},
     "output_type": "execute_result"
    }
   ],
   "source": [
    "from pandas import DataFrame\n",
    "import pandas as pd\n",
    "import numpy as np\n",
    "\n",
    "# read in the script\n",
    "with open(raw_script, 'r', encoding='utf8') as s:\n",
    "    raw_df = DataFrame({'raw': s.readlines()})\n",
    "raw_df[:10]"
   ]
  },
  {
   "cell_type": "code",
   "execution_count": 4,
   "metadata": {},
   "outputs": [
    {
     "data": {
      "text/plain": [
       "1437"
      ]
     },
     "execution_count": 4,
     "metadata": {},
     "output_type": "execute_result"
    }
   ],
   "source": [
    "len(raw_df)"
   ]
  },
  {
   "cell_type": "code",
   "execution_count": 5,
   "metadata": {
    "collapsed": true
   },
   "outputs": [],
   "source": [
    "# used for displaying full data while debugging using the form HTML(data.to_html())\n",
    "#from IPython.display import HTML"
   ]
  },
  {
   "cell_type": "code",
   "execution_count": 6,
   "metadata": {
    "collapsed": true
   },
   "outputs": [],
   "source": [
    "# filter out new/empty lines and lines annotated as songs\n",
    "lines = DataFrame(raw_df[(raw_df.raw.str.strip() != '') & ~(raw_df.raw.str.contains('\\(song\\)'))])"
   ]
  },
  {
   "cell_type": "code",
   "execution_count": 7,
   "metadata": {},
   "outputs": [
    {
     "data": {
      "text/plain": [
       "1265"
      ]
     },
     "execution_count": 7,
     "metadata": {},
     "output_type": "execute_result"
    }
   ],
   "source": [
    "len(lines)"
   ]
  },
  {
   "cell_type": "code",
   "execution_count": 8,
   "metadata": {},
   "outputs": [
    {
     "data": {
      "text/html": [
       "<div>\n",
       "<style>\n",
       "    .dataframe thead tr:only-child th {\n",
       "        text-align: right;\n",
       "    }\n",
       "\n",
       "    .dataframe thead th {\n",
       "        text-align: left;\n",
       "    }\n",
       "\n",
       "    .dataframe tbody tr th {\n",
       "        vertical-align: top;\n",
       "    }\n",
       "</style>\n",
       "<table border=\"1\" class=\"dataframe\">\n",
       "  <thead>\n",
       "    <tr style=\"text-align: right;\">\n",
       "      <th></th>\n",
       "      <th>raw</th>\n",
       "    </tr>\n",
       "  </thead>\n",
       "  <tbody>\n",
       "    <tr>\n",
       "      <th>0</th>\n",
       "      <td>﻿Love Actually Scripts\\n</td>\n",
       "    </tr>\n",
       "    <tr>\n",
       "      <th>4</th>\n",
       "      <td>[ Scene #1 ]\\n</td>\n",
       "    </tr>\n",
       "    <tr>\n",
       "      <th>5</th>\n",
       "      <td>(Man): 'Whenever I get gloomy with the state o...</td>\n",
       "    </tr>\n",
       "    <tr>\n",
       "      <th>6</th>\n",
       "      <td>I think about the arrival's gate at Heathrow...</td>\n",
       "    </tr>\n",
       "    <tr>\n",
       "      <th>7</th>\n",
       "      <td>General opinion started to make out that we ...</td>\n",
       "    </tr>\n",
       "    <tr>\n",
       "      <th>8</th>\n",
       "      <td>but I don't see that. Seems to me that love ...</td>\n",
       "    </tr>\n",
       "    <tr>\n",
       "      <th>9</th>\n",
       "      <td>Often it's not particularly dignified or new...</td>\n",
       "    </tr>\n",
       "    <tr>\n",
       "      <th>10</th>\n",
       "      <td>Fathers and sons, mothers and daughters, hus...</td>\n",
       "    </tr>\n",
       "    <tr>\n",
       "      <th>11</th>\n",
       "      <td>When the planes hit the Twin Towers, as far ...</td>\n",
       "    </tr>\n",
       "    <tr>\n",
       "      <th>12</th>\n",
       "      <td>none of the phone calls from people on board...</td>\n",
       "    </tr>\n",
       "  </tbody>\n",
       "</table>\n",
       "</div>"
      ],
      "text/plain": [
       "                                                  raw\n",
       "0                            ﻿Love Actually Scripts\\n\n",
       "4                                      [ Scene #1 ]\\n\n",
       "5   (Man): 'Whenever I get gloomy with the state o...\n",
       "6     I think about the arrival's gate at Heathrow...\n",
       "7     General opinion started to make out that we ...\n",
       "8     but I don't see that. Seems to me that love ...\n",
       "9     Often it's not particularly dignified or new...\n",
       "10    Fathers and sons, mothers and daughters, hus...\n",
       "11    When the planes hit the Twin Towers, as far ...\n",
       "12    none of the phone calls from people on board..."
      ]
     },
     "execution_count": 8,
     "metadata": {},
     "output_type": "execute_result"
    }
   ],
   "source": [
    "lines[:10]"
   ]
  },
  {
   "cell_type": "code",
   "execution_count": 9,
   "metadata": {
    "collapsed": true
   },
   "outputs": [],
   "source": [
    "# mutate: add new columns to annotate scene markers and then calculate scene numbers for each line, based on markers.\n",
    "\n",
    "lines['is_scene'] = np.where(lines.raw.str.contains(\"\\[ Scene #\"), True, False)\n",
    "# fortunately, numpy has a cumsum method like R\n",
    "lines['scene'] = np.cumsum(np.where(lines.raw.str.contains(\"\\[ Scene #\"), True, False))"
   ]
  },
  {
   "cell_type": "code",
   "execution_count": 10,
   "metadata": {},
   "outputs": [
    {
     "data": {
      "text/html": [
       "<div>\n",
       "<style>\n",
       "    .dataframe thead tr:only-child th {\n",
       "        text-align: right;\n",
       "    }\n",
       "\n",
       "    .dataframe thead th {\n",
       "        text-align: left;\n",
       "    }\n",
       "\n",
       "    .dataframe tbody tr th {\n",
       "        vertical-align: top;\n",
       "    }\n",
       "</style>\n",
       "<table border=\"1\" class=\"dataframe\">\n",
       "  <thead>\n",
       "    <tr style=\"text-align: right;\">\n",
       "      <th></th>\n",
       "      <th>raw</th>\n",
       "      <th>is_scene</th>\n",
       "      <th>scene</th>\n",
       "    </tr>\n",
       "  </thead>\n",
       "  <tbody>\n",
       "    <tr>\n",
       "      <th>0</th>\n",
       "      <td>﻿Love Actually Scripts\\n</td>\n",
       "      <td>False</td>\n",
       "      <td>0</td>\n",
       "    </tr>\n",
       "    <tr>\n",
       "      <th>4</th>\n",
       "      <td>[ Scene #1 ]\\n</td>\n",
       "      <td>True</td>\n",
       "      <td>1</td>\n",
       "    </tr>\n",
       "    <tr>\n",
       "      <th>5</th>\n",
       "      <td>(Man): 'Whenever I get gloomy with the state o...</td>\n",
       "      <td>False</td>\n",
       "      <td>1</td>\n",
       "    </tr>\n",
       "    <tr>\n",
       "      <th>6</th>\n",
       "      <td>I think about the arrival's gate at Heathrow...</td>\n",
       "      <td>False</td>\n",
       "      <td>1</td>\n",
       "    </tr>\n",
       "    <tr>\n",
       "      <th>7</th>\n",
       "      <td>General opinion started to make out that we ...</td>\n",
       "      <td>False</td>\n",
       "      <td>1</td>\n",
       "    </tr>\n",
       "    <tr>\n",
       "      <th>8</th>\n",
       "      <td>but I don't see that. Seems to me that love ...</td>\n",
       "      <td>False</td>\n",
       "      <td>1</td>\n",
       "    </tr>\n",
       "    <tr>\n",
       "      <th>9</th>\n",
       "      <td>Often it's not particularly dignified or new...</td>\n",
       "      <td>False</td>\n",
       "      <td>1</td>\n",
       "    </tr>\n",
       "    <tr>\n",
       "      <th>10</th>\n",
       "      <td>Fathers and sons, mothers and daughters, hus...</td>\n",
       "      <td>False</td>\n",
       "      <td>1</td>\n",
       "    </tr>\n",
       "    <tr>\n",
       "      <th>11</th>\n",
       "      <td>When the planes hit the Twin Towers, as far ...</td>\n",
       "      <td>False</td>\n",
       "      <td>1</td>\n",
       "    </tr>\n",
       "    <tr>\n",
       "      <th>12</th>\n",
       "      <td>none of the phone calls from people on board...</td>\n",
       "      <td>False</td>\n",
       "      <td>1</td>\n",
       "    </tr>\n",
       "  </tbody>\n",
       "</table>\n",
       "</div>"
      ],
      "text/plain": [
       "                                                  raw  is_scene  scene\n",
       "0                            ﻿Love Actually Scripts\\n     False      0\n",
       "4                                      [ Scene #1 ]\\n      True      1\n",
       "5   (Man): 'Whenever I get gloomy with the state o...     False      1\n",
       "6     I think about the arrival's gate at Heathrow...     False      1\n",
       "7     General opinion started to make out that we ...     False      1\n",
       "8     but I don't see that. Seems to me that love ...     False      1\n",
       "9     Often it's not particularly dignified or new...     False      1\n",
       "10    Fathers and sons, mothers and daughters, hus...     False      1\n",
       "11    When the planes hit the Twin Towers, as far ...     False      1\n",
       "12    none of the phone calls from people on board...     False      1"
      ]
     },
     "execution_count": 10,
     "metadata": {},
     "output_type": "execute_result"
    }
   ],
   "source": [
    "lines[:10]"
   ]
  },
  {
   "cell_type": "code",
   "execution_count": 11,
   "metadata": {
    "collapsed": true
   },
   "outputs": [],
   "source": [
    "# clean up now that we're done with the is_scene column\n",
    "lines = lines[~lines.is_scene] # filter out scene markers\n",
    "lines = lines.drop('is_scene', axis=1) # remove is_scene column"
   ]
  },
  {
   "cell_type": "code",
   "execution_count": 12,
   "metadata": {},
   "outputs": [
    {
     "data": {
      "text/html": [
       "<div>\n",
       "<style>\n",
       "    .dataframe thead tr:only-child th {\n",
       "        text-align: right;\n",
       "    }\n",
       "\n",
       "    .dataframe thead th {\n",
       "        text-align: left;\n",
       "    }\n",
       "\n",
       "    .dataframe tbody tr th {\n",
       "        vertical-align: top;\n",
       "    }\n",
       "</style>\n",
       "<table border=\"1\" class=\"dataframe\">\n",
       "  <thead>\n",
       "    <tr style=\"text-align: right;\">\n",
       "      <th></th>\n",
       "      <th>raw</th>\n",
       "      <th>scene</th>\n",
       "    </tr>\n",
       "  </thead>\n",
       "  <tbody>\n",
       "    <tr>\n",
       "      <th>0</th>\n",
       "      <td>﻿Love Actually Scripts\\n</td>\n",
       "      <td>0</td>\n",
       "    </tr>\n",
       "    <tr>\n",
       "      <th>5</th>\n",
       "      <td>(Man): 'Whenever I get gloomy with the state o...</td>\n",
       "      <td>1</td>\n",
       "    </tr>\n",
       "    <tr>\n",
       "      <th>6</th>\n",
       "      <td>I think about the arrival's gate at Heathrow...</td>\n",
       "      <td>1</td>\n",
       "    </tr>\n",
       "    <tr>\n",
       "      <th>7</th>\n",
       "      <td>General opinion started to make out that we ...</td>\n",
       "      <td>1</td>\n",
       "    </tr>\n",
       "    <tr>\n",
       "      <th>8</th>\n",
       "      <td>but I don't see that. Seems to me that love ...</td>\n",
       "      <td>1</td>\n",
       "    </tr>\n",
       "    <tr>\n",
       "      <th>9</th>\n",
       "      <td>Often it's not particularly dignified or new...</td>\n",
       "      <td>1</td>\n",
       "    </tr>\n",
       "    <tr>\n",
       "      <th>10</th>\n",
       "      <td>Fathers and sons, mothers and daughters, hus...</td>\n",
       "      <td>1</td>\n",
       "    </tr>\n",
       "    <tr>\n",
       "      <th>11</th>\n",
       "      <td>When the planes hit the Twin Towers, as far ...</td>\n",
       "      <td>1</td>\n",
       "    </tr>\n",
       "    <tr>\n",
       "      <th>12</th>\n",
       "      <td>none of the phone calls from people on board...</td>\n",
       "      <td>1</td>\n",
       "    </tr>\n",
       "    <tr>\n",
       "      <th>13</th>\n",
       "      <td>they were all messages of love. \\n</td>\n",
       "      <td>1</td>\n",
       "    </tr>\n",
       "  </tbody>\n",
       "</table>\n",
       "</div>"
      ],
      "text/plain": [
       "                                                  raw  scene\n",
       "0                            ﻿Love Actually Scripts\\n      0\n",
       "5   (Man): 'Whenever I get gloomy with the state o...      1\n",
       "6     I think about the arrival's gate at Heathrow...      1\n",
       "7     General opinion started to make out that we ...      1\n",
       "8     but I don't see that. Seems to me that love ...      1\n",
       "9     Often it's not particularly dignified or new...      1\n",
       "10    Fathers and sons, mothers and daughters, hus...      1\n",
       "11    When the planes hit the Twin Towers, as far ...      1\n",
       "12    none of the phone calls from people on board...      1\n",
       "13                 they were all messages of love. \\n      1"
      ]
     },
     "execution_count": 12,
     "metadata": {},
     "output_type": "execute_result"
    }
   ],
   "source": [
    "lines[:10]"
   ]
  },
  {
   "cell_type": "code",
   "execution_count": 13,
   "metadata": {
    "collapsed": true
   },
   "outputs": [],
   "source": [
    "# take raw and partition by ':'\n",
    "# if partition exists, left side represents the speaker, right side the dialogue of the speaker\n",
    "# if partition does not exist, entire line is dialogue\n",
    "raw_partitioned = lines.raw.str.rpartition(':')"
   ]
  },
  {
   "cell_type": "code",
   "execution_count": 14,
   "metadata": {
    "collapsed": true
   },
   "outputs": [],
   "source": [
    "lines['speaker'] = raw_partitioned[0]\n",
    "lines['dialogue'] = raw_partitioned[2]"
   ]
  },
  {
   "cell_type": "code",
   "execution_count": 15,
   "metadata": {
    "collapsed": true
   },
   "outputs": [],
   "source": [
    "# add new column with line numbers\n",
    "lines['line'] = np.cumsum(lines.speaker != '')"
   ]
  },
  {
   "cell_type": "code",
   "execution_count": 16,
   "metadata": {},
   "outputs": [
    {
     "data": {
      "text/html": [
       "<div>\n",
       "<style>\n",
       "    .dataframe thead tr:only-child th {\n",
       "        text-align: right;\n",
       "    }\n",
       "\n",
       "    .dataframe thead th {\n",
       "        text-align: left;\n",
       "    }\n",
       "\n",
       "    .dataframe tbody tr th {\n",
       "        vertical-align: top;\n",
       "    }\n",
       "</style>\n",
       "<table border=\"1\" class=\"dataframe\">\n",
       "  <thead>\n",
       "    <tr style=\"text-align: right;\">\n",
       "      <th></th>\n",
       "      <th>raw</th>\n",
       "      <th>scene</th>\n",
       "      <th>speaker</th>\n",
       "      <th>dialogue</th>\n",
       "      <th>line</th>\n",
       "    </tr>\n",
       "  </thead>\n",
       "  <tbody>\n",
       "    <tr>\n",
       "      <th>0</th>\n",
       "      <td>﻿Love Actually Scripts\\n</td>\n",
       "      <td>0</td>\n",
       "      <td></td>\n",
       "      <td>﻿Love Actually Scripts\\n</td>\n",
       "      <td>0</td>\n",
       "    </tr>\n",
       "    <tr>\n",
       "      <th>5</th>\n",
       "      <td>(Man): 'Whenever I get gloomy with the state o...</td>\n",
       "      <td>1</td>\n",
       "      <td>(Man)</td>\n",
       "      <td>'Whenever I get gloomy with the state of the ...</td>\n",
       "      <td>1</td>\n",
       "    </tr>\n",
       "    <tr>\n",
       "      <th>6</th>\n",
       "      <td>I think about the arrival's gate at Heathrow...</td>\n",
       "      <td>1</td>\n",
       "      <td></td>\n",
       "      <td>I think about the arrival's gate at Heathrow...</td>\n",
       "      <td>1</td>\n",
       "    </tr>\n",
       "    <tr>\n",
       "      <th>7</th>\n",
       "      <td>General opinion started to make out that we ...</td>\n",
       "      <td>1</td>\n",
       "      <td></td>\n",
       "      <td>General opinion started to make out that we ...</td>\n",
       "      <td>1</td>\n",
       "    </tr>\n",
       "    <tr>\n",
       "      <th>8</th>\n",
       "      <td>but I don't see that. Seems to me that love ...</td>\n",
       "      <td>1</td>\n",
       "      <td></td>\n",
       "      <td>but I don't see that. Seems to me that love ...</td>\n",
       "      <td>1</td>\n",
       "    </tr>\n",
       "    <tr>\n",
       "      <th>9</th>\n",
       "      <td>Often it's not particularly dignified or new...</td>\n",
       "      <td>1</td>\n",
       "      <td></td>\n",
       "      <td>Often it's not particularly dignified or new...</td>\n",
       "      <td>1</td>\n",
       "    </tr>\n",
       "    <tr>\n",
       "      <th>10</th>\n",
       "      <td>Fathers and sons, mothers and daughters, hus...</td>\n",
       "      <td>1</td>\n",
       "      <td></td>\n",
       "      <td>Fathers and sons, mothers and daughters, hus...</td>\n",
       "      <td>1</td>\n",
       "    </tr>\n",
       "    <tr>\n",
       "      <th>11</th>\n",
       "      <td>When the planes hit the Twin Towers, as far ...</td>\n",
       "      <td>1</td>\n",
       "      <td></td>\n",
       "      <td>When the planes hit the Twin Towers, as far ...</td>\n",
       "      <td>1</td>\n",
       "    </tr>\n",
       "    <tr>\n",
       "      <th>12</th>\n",
       "      <td>none of the phone calls from people on board...</td>\n",
       "      <td>1</td>\n",
       "      <td></td>\n",
       "      <td>none of the phone calls from people on board...</td>\n",
       "      <td>1</td>\n",
       "    </tr>\n",
       "    <tr>\n",
       "      <th>13</th>\n",
       "      <td>they were all messages of love. \\n</td>\n",
       "      <td>1</td>\n",
       "      <td></td>\n",
       "      <td>they were all messages of love. \\n</td>\n",
       "      <td>1</td>\n",
       "    </tr>\n",
       "    <tr>\n",
       "      <th>14</th>\n",
       "      <td>If you look for it, I've got a sneaky feelin...</td>\n",
       "      <td>1</td>\n",
       "      <td></td>\n",
       "      <td>If you look for it, I've got a sneaky feelin...</td>\n",
       "      <td>1</td>\n",
       "    </tr>\n",
       "    <tr>\n",
       "      <th>17</th>\n",
       "      <td>Billy: ♪ I feel it in my fingers ♪ I feel it i...</td>\n",
       "      <td>2</td>\n",
       "      <td>Billy</td>\n",
       "      <td>♪ I feel it in my fingers ♪ I feel it in my t...</td>\n",
       "      <td>2</td>\n",
       "    </tr>\n",
       "    <tr>\n",
       "      <th>18</th>\n",
       "      <td>Love is all around me And so the... ♪\\n</td>\n",
       "      <td>2</td>\n",
       "      <td></td>\n",
       "      <td>Love is all around me And so the... ♪\\n</td>\n",
       "      <td>2</td>\n",
       "    </tr>\n",
       "    <tr>\n",
       "      <th>19</th>\n",
       "      <td>Joe: I'm afraid you did it again, Bill.\\n</td>\n",
       "      <td>2</td>\n",
       "      <td>Joe</td>\n",
       "      <td>I'm afraid you did it again, Bill.\\n</td>\n",
       "      <td>3</td>\n",
       "    </tr>\n",
       "    <tr>\n",
       "      <th>20</th>\n",
       "      <td>Billy: It's just I know the old version so wel...</td>\n",
       "      <td>2</td>\n",
       "      <td>Billy</td>\n",
       "      <td>It's just I know the old version so well, you...</td>\n",
       "      <td>4</td>\n",
       "    </tr>\n",
       "  </tbody>\n",
       "</table>\n",
       "</div>"
      ],
      "text/plain": [
       "                                                  raw  scene speaker  \\\n",
       "0                            ﻿Love Actually Scripts\\n      0           \n",
       "5   (Man): 'Whenever I get gloomy with the state o...      1   (Man)   \n",
       "6     I think about the arrival's gate at Heathrow...      1           \n",
       "7     General opinion started to make out that we ...      1           \n",
       "8     but I don't see that. Seems to me that love ...      1           \n",
       "9     Often it's not particularly dignified or new...      1           \n",
       "10    Fathers and sons, mothers and daughters, hus...      1           \n",
       "11    When the planes hit the Twin Towers, as far ...      1           \n",
       "12    none of the phone calls from people on board...      1           \n",
       "13                 they were all messages of love. \\n      1           \n",
       "14    If you look for it, I've got a sneaky feelin...      1           \n",
       "17  Billy: ♪ I feel it in my fingers ♪ I feel it i...      2   Billy   \n",
       "18            Love is all around me And so the... ♪\\n      2           \n",
       "19          Joe: I'm afraid you did it again, Bill.\\n      2     Joe   \n",
       "20  Billy: It's just I know the old version so wel...      2   Billy   \n",
       "\n",
       "                                             dialogue  line  \n",
       "0                            ﻿Love Actually Scripts\\n     0  \n",
       "5    'Whenever I get gloomy with the state of the ...     1  \n",
       "6     I think about the arrival's gate at Heathrow...     1  \n",
       "7     General opinion started to make out that we ...     1  \n",
       "8     but I don't see that. Seems to me that love ...     1  \n",
       "9     Often it's not particularly dignified or new...     1  \n",
       "10    Fathers and sons, mothers and daughters, hus...     1  \n",
       "11    When the planes hit the Twin Towers, as far ...     1  \n",
       "12    none of the phone calls from people on board...     1  \n",
       "13                 they were all messages of love. \\n     1  \n",
       "14    If you look for it, I've got a sneaky feelin...     1  \n",
       "17   ♪ I feel it in my fingers ♪ I feel it in my t...     2  \n",
       "18            Love is all around me And so the... ♪\\n     2  \n",
       "19               I'm afraid you did it again, Bill.\\n     3  \n",
       "20   It's just I know the old version so well, you...     4  "
      ]
     },
     "execution_count": 16,
     "metadata": {},
     "output_type": "execute_result"
    }
   ],
   "source": [
    "lines[:15]"
   ]
  },
  {
   "cell_type": "code",
   "execution_count": 17,
   "metadata": {
    "collapsed": true
   },
   "outputs": [],
   "source": [
    "# collapse dialogue belonging to the same line into one row:\n",
    "    # group by scene and line (do not index by group labels, else we'll get a weird multi-level index at the end)\n",
    "    # aggregate the dialogue across these groups (and aggregate speaker, but each line should have one speaker anyway)\n",
    "lines = lines.groupby(['scene', 'line'], as_index=False).aggregate({'dialogue': lambda x: x.str.cat().strip(), 'speaker': lambda x: x.str.cat()})"
   ]
  },
  {
   "cell_type": "code",
   "execution_count": 18,
   "metadata": {},
   "outputs": [
    {
     "data": {
      "text/html": [
       "<div>\n",
       "<style>\n",
       "    .dataframe thead tr:only-child th {\n",
       "        text-align: right;\n",
       "    }\n",
       "\n",
       "    .dataframe thead th {\n",
       "        text-align: left;\n",
       "    }\n",
       "\n",
       "    .dataframe tbody tr th {\n",
       "        vertical-align: top;\n",
       "    }\n",
       "</style>\n",
       "<table border=\"1\" class=\"dataframe\">\n",
       "  <thead>\n",
       "    <tr style=\"text-align: right;\">\n",
       "      <th></th>\n",
       "      <th>scene</th>\n",
       "      <th>line</th>\n",
       "      <th>dialogue</th>\n",
       "      <th>speaker</th>\n",
       "    </tr>\n",
       "  </thead>\n",
       "  <tbody>\n",
       "    <tr>\n",
       "      <th>0</th>\n",
       "      <td>0</td>\n",
       "      <td>0</td>\n",
       "      <td>﻿Love Actually Scripts</td>\n",
       "      <td></td>\n",
       "    </tr>\n",
       "    <tr>\n",
       "      <th>1</th>\n",
       "      <td>1</td>\n",
       "      <td>1</td>\n",
       "      <td>'Whenever I get gloomy with the state of the w...</td>\n",
       "      <td>(Man)</td>\n",
       "    </tr>\n",
       "    <tr>\n",
       "      <th>2</th>\n",
       "      <td>2</td>\n",
       "      <td>2</td>\n",
       "      <td>♪ I feel it in my fingers ♪ I feel it in my to...</td>\n",
       "      <td>Billy</td>\n",
       "    </tr>\n",
       "    <tr>\n",
       "      <th>3</th>\n",
       "      <td>2</td>\n",
       "      <td>3</td>\n",
       "      <td>I'm afraid you did it again, Bill.</td>\n",
       "      <td>Joe</td>\n",
       "    </tr>\n",
       "    <tr>\n",
       "      <th>4</th>\n",
       "      <td>2</td>\n",
       "      <td>4</td>\n",
       "      <td>It's just I know the old version so well, you ...</td>\n",
       "      <td>Billy</td>\n",
       "    </tr>\n",
       "    <tr>\n",
       "      <th>5</th>\n",
       "      <td>2</td>\n",
       "      <td>5</td>\n",
       "      <td>Well, we all do. That's why we're making the n...</td>\n",
       "      <td>Joe</td>\n",
       "    </tr>\n",
       "    <tr>\n",
       "      <th>6</th>\n",
       "      <td>2</td>\n",
       "      <td>6</td>\n",
       "      <td>Right, OK, let's go. ♪ I feel it in my fingers...</td>\n",
       "      <td>Billy</td>\n",
       "    </tr>\n",
       "    <tr>\n",
       "      <th>7</th>\n",
       "      <td>2</td>\n",
       "      <td>7</td>\n",
       "      <td>Oh, fuck, wank, bugger, shitting, arsehead and...</td>\n",
       "      <td>Billy</td>\n",
       "    </tr>\n",
       "    <tr>\n",
       "      <th>8</th>\n",
       "      <td>2</td>\n",
       "      <td>8</td>\n",
       "      <td>This is shit, isn't it?</td>\n",
       "      <td>Billy</td>\n",
       "    </tr>\n",
       "    <tr>\n",
       "      <th>9</th>\n",
       "      <td>2</td>\n",
       "      <td>9</td>\n",
       "      <td>Yup, solid gold shit, Maestro.</td>\n",
       "      <td>Joe</td>\n",
       "    </tr>\n",
       "  </tbody>\n",
       "</table>\n",
       "</div>"
      ],
      "text/plain": [
       "   scene  line                                           dialogue speaker\n",
       "0      0     0                             ﻿Love Actually Scripts        \n",
       "1      1     1  'Whenever I get gloomy with the state of the w...   (Man)\n",
       "2      2     2  ♪ I feel it in my fingers ♪ I feel it in my to...   Billy\n",
       "3      2     3                 I'm afraid you did it again, Bill.     Joe\n",
       "4      2     4  It's just I know the old version so well, you ...   Billy\n",
       "5      2     5  Well, we all do. That's why we're making the n...     Joe\n",
       "6      2     6  Right, OK, let's go. ♪ I feel it in my fingers...   Billy\n",
       "7      2     7  Oh, fuck, wank, bugger, shitting, arsehead and...   Billy\n",
       "8      2     8                            This is shit, isn't it?   Billy\n",
       "9      2     9                     Yup, solid gold shit, Maestro.     Joe"
      ]
     },
     "execution_count": 18,
     "metadata": {},
     "output_type": "execute_result"
    }
   ],
   "source": [
    "lines[:10]"
   ]
  },
  {
   "cell_type": "markdown",
   "metadata": {},
   "source": [
    "^Note that David did everything so far in one (extremely) dense line of code with a bunch of piping!"
   ]
  },
  {
   "cell_type": "code",
   "execution_count": 19,
   "metadata": {
    "collapsed": true
   },
   "outputs": [],
   "source": [
    "# read in the character -> actor mapping\n",
    "with open(cast_csv, 'r') as c:\n",
    "    cast = pd.read_csv(c)"
   ]
  },
  {
   "cell_type": "code",
   "execution_count": 20,
   "metadata": {
    "collapsed": true
   },
   "outputs": [],
   "source": [
    "lines = lines.merge(cast)\n",
    "lines['character'] = lines['speaker'] + ' (' + lines['actor'] + ')'\n",
    "\n",
    "# clean up the output\n",
    "lines = lines.sort_values('line').reset_index(drop=True)"
   ]
  },
  {
   "cell_type": "code",
   "execution_count": 21,
   "metadata": {
    "scrolled": true
   },
   "outputs": [
    {
     "data": {
      "text/html": [
       "<div>\n",
       "<style>\n",
       "    .dataframe thead tr:only-child th {\n",
       "        text-align: right;\n",
       "    }\n",
       "\n",
       "    .dataframe thead th {\n",
       "        text-align: left;\n",
       "    }\n",
       "\n",
       "    .dataframe tbody tr th {\n",
       "        vertical-align: top;\n",
       "    }\n",
       "</style>\n",
       "<table border=\"1\" class=\"dataframe\">\n",
       "  <thead>\n",
       "    <tr style=\"text-align: right;\">\n",
       "      <th></th>\n",
       "      <th>scene</th>\n",
       "      <th>line</th>\n",
       "      <th>dialogue</th>\n",
       "      <th>speaker</th>\n",
       "      <th>actor</th>\n",
       "      <th>character</th>\n",
       "    </tr>\n",
       "  </thead>\n",
       "  <tbody>\n",
       "    <tr>\n",
       "      <th>0</th>\n",
       "      <td>2</td>\n",
       "      <td>2</td>\n",
       "      <td>♪ I feel it in my fingers ♪ I feel it in my to...</td>\n",
       "      <td>Billy</td>\n",
       "      <td>Bill Nighy</td>\n",
       "      <td>Billy (Bill Nighy)</td>\n",
       "    </tr>\n",
       "    <tr>\n",
       "      <th>1</th>\n",
       "      <td>2</td>\n",
       "      <td>3</td>\n",
       "      <td>I'm afraid you did it again, Bill.</td>\n",
       "      <td>Joe</td>\n",
       "      <td>Gregor Fisher</td>\n",
       "      <td>Joe (Gregor Fisher)</td>\n",
       "    </tr>\n",
       "    <tr>\n",
       "      <th>2</th>\n",
       "      <td>2</td>\n",
       "      <td>4</td>\n",
       "      <td>It's just I know the old version so well, you ...</td>\n",
       "      <td>Billy</td>\n",
       "      <td>Bill Nighy</td>\n",
       "      <td>Billy (Bill Nighy)</td>\n",
       "    </tr>\n",
       "    <tr>\n",
       "      <th>3</th>\n",
       "      <td>2</td>\n",
       "      <td>5</td>\n",
       "      <td>Well, we all do. That's why we're making the n...</td>\n",
       "      <td>Joe</td>\n",
       "      <td>Gregor Fisher</td>\n",
       "      <td>Joe (Gregor Fisher)</td>\n",
       "    </tr>\n",
       "    <tr>\n",
       "      <th>4</th>\n",
       "      <td>2</td>\n",
       "      <td>6</td>\n",
       "      <td>Right, OK, let's go. ♪ I feel it in my fingers...</td>\n",
       "      <td>Billy</td>\n",
       "      <td>Bill Nighy</td>\n",
       "      <td>Billy (Bill Nighy)</td>\n",
       "    </tr>\n",
       "    <tr>\n",
       "      <th>5</th>\n",
       "      <td>2</td>\n",
       "      <td>7</td>\n",
       "      <td>Oh, fuck, wank, bugger, shitting, arsehead and...</td>\n",
       "      <td>Billy</td>\n",
       "      <td>Bill Nighy</td>\n",
       "      <td>Billy (Bill Nighy)</td>\n",
       "    </tr>\n",
       "    <tr>\n",
       "      <th>6</th>\n",
       "      <td>2</td>\n",
       "      <td>8</td>\n",
       "      <td>This is shit, isn't it?</td>\n",
       "      <td>Billy</td>\n",
       "      <td>Bill Nighy</td>\n",
       "      <td>Billy (Bill Nighy)</td>\n",
       "    </tr>\n",
       "    <tr>\n",
       "      <th>7</th>\n",
       "      <td>2</td>\n",
       "      <td>9</td>\n",
       "      <td>Yup, solid gold shit, Maestro.</td>\n",
       "      <td>Joe</td>\n",
       "      <td>Gregor Fisher</td>\n",
       "      <td>Joe (Gregor Fisher)</td>\n",
       "    </tr>\n",
       "    <tr>\n",
       "      <th>8</th>\n",
       "      <td>3</td>\n",
       "      <td>10</td>\n",
       "      <td>God, I'm so late.</td>\n",
       "      <td>Jamie</td>\n",
       "      <td>Colin Firth</td>\n",
       "      <td>Jamie (Colin Firth)</td>\n",
       "    </tr>\n",
       "    <tr>\n",
       "      <th>9</th>\n",
       "      <td>3</td>\n",
       "      <td>11</td>\n",
       "      <td>It's just round the corner, you'll make it.</td>\n",
       "      <td>Kataya</td>\n",
       "      <td>Sienna Guillory</td>\n",
       "      <td>Kataya (Sienna Guillory)</td>\n",
       "    </tr>\n",
       "    <tr>\n",
       "      <th>10</th>\n",
       "      <td>3</td>\n",
       "      <td>12</td>\n",
       "      <td>You sure you don't mind me going without you?</td>\n",
       "      <td>Jamie</td>\n",
       "      <td>Colin Firth</td>\n",
       "      <td>Jamie (Colin Firth)</td>\n",
       "    </tr>\n",
       "    <tr>\n",
       "      <th>11</th>\n",
       "      <td>3</td>\n",
       "      <td>13</td>\n",
       "      <td>No, really. I'm just feeling so rotten.</td>\n",
       "      <td>Kataya</td>\n",
       "      <td>Sienna Guillory</td>\n",
       "      <td>Kataya (Sienna Guillory)</td>\n",
       "    </tr>\n",
       "    <tr>\n",
       "      <th>12</th>\n",
       "      <td>3</td>\n",
       "      <td>14</td>\n",
       "      <td>I love you.</td>\n",
       "      <td>Jamie</td>\n",
       "      <td>Colin Firth</td>\n",
       "      <td>Jamie (Colin Firth)</td>\n",
       "    </tr>\n",
       "    <tr>\n",
       "      <th>13</th>\n",
       "      <td>3</td>\n",
       "      <td>15</td>\n",
       "      <td>I know.</td>\n",
       "      <td>Kataya</td>\n",
       "      <td>Sienna Guillory</td>\n",
       "      <td>Kataya (Sienna Guillory)</td>\n",
       "    </tr>\n",
       "    <tr>\n",
       "      <th>14</th>\n",
       "      <td>3</td>\n",
       "      <td>16</td>\n",
       "      <td>I love you even when you're sick and look disg...</td>\n",
       "      <td>Jamie</td>\n",
       "      <td>Colin Firth</td>\n",
       "      <td>Jamie (Colin Firth)</td>\n",
       "    </tr>\n",
       "  </tbody>\n",
       "</table>\n",
       "</div>"
      ],
      "text/plain": [
       "    scene  line                                           dialogue speaker  \\\n",
       "0       2     2  ♪ I feel it in my fingers ♪ I feel it in my to...   Billy   \n",
       "1       2     3                 I'm afraid you did it again, Bill.     Joe   \n",
       "2       2     4  It's just I know the old version so well, you ...   Billy   \n",
       "3       2     5  Well, we all do. That's why we're making the n...     Joe   \n",
       "4       2     6  Right, OK, let's go. ♪ I feel it in my fingers...   Billy   \n",
       "5       2     7  Oh, fuck, wank, bugger, shitting, arsehead and...   Billy   \n",
       "6       2     8                            This is shit, isn't it?   Billy   \n",
       "7       2     9                     Yup, solid gold shit, Maestro.     Joe   \n",
       "8       3    10                                  God, I'm so late.   Jamie   \n",
       "9       3    11        It's just round the corner, you'll make it.  Kataya   \n",
       "10      3    12      You sure you don't mind me going without you?   Jamie   \n",
       "11      3    13            No, really. I'm just feeling so rotten.  Kataya   \n",
       "12      3    14                                        I love you.   Jamie   \n",
       "13      3    15                                            I know.  Kataya   \n",
       "14      3    16  I love you even when you're sick and look disg...   Jamie   \n",
       "\n",
       "              actor                 character  \n",
       "0        Bill Nighy        Billy (Bill Nighy)  \n",
       "1     Gregor Fisher       Joe (Gregor Fisher)  \n",
       "2        Bill Nighy        Billy (Bill Nighy)  \n",
       "3     Gregor Fisher       Joe (Gregor Fisher)  \n",
       "4        Bill Nighy        Billy (Bill Nighy)  \n",
       "5        Bill Nighy        Billy (Bill Nighy)  \n",
       "6        Bill Nighy        Billy (Bill Nighy)  \n",
       "7     Gregor Fisher       Joe (Gregor Fisher)  \n",
       "8       Colin Firth       Jamie (Colin Firth)  \n",
       "9   Sienna Guillory  Kataya (Sienna Guillory)  \n",
       "10      Colin Firth       Jamie (Colin Firth)  \n",
       "11  Sienna Guillory  Kataya (Sienna Guillory)  \n",
       "12      Colin Firth       Jamie (Colin Firth)  \n",
       "13  Sienna Guillory  Kataya (Sienna Guillory)  \n",
       "14      Colin Firth       Jamie (Colin Firth)  "
      ]
     },
     "execution_count": 21,
     "metadata": {},
     "output_type": "execute_result"
    }
   ],
   "source": [
    "lines[:15]"
   ]
  },
  {
   "cell_type": "markdown",
   "metadata": {},
   "source": [
    "## Create a binary speaker-by-scene matrix\n",
    "\n",
    "**Section subgoals**: count lines per scene per character"
   ]
  },
  {
   "cell_type": "code",
   "execution_count": 22,
   "metadata": {
    "collapsed": true
   },
   "outputs": [],
   "source": [
    "by_speaker_scene = lines.groupby(['scene', 'character'], as_index=False).size().reset_index(name='n')"
   ]
  },
  {
   "cell_type": "code",
   "execution_count": 23,
   "metadata": {},
   "outputs": [
    {
     "data": {
      "text/html": [
       "<div>\n",
       "<style>\n",
       "    .dataframe thead tr:only-child th {\n",
       "        text-align: right;\n",
       "    }\n",
       "\n",
       "    .dataframe thead th {\n",
       "        text-align: left;\n",
       "    }\n",
       "\n",
       "    .dataframe tbody tr th {\n",
       "        vertical-align: top;\n",
       "    }\n",
       "</style>\n",
       "<table border=\"1\" class=\"dataframe\">\n",
       "  <thead>\n",
       "    <tr style=\"text-align: right;\">\n",
       "      <th></th>\n",
       "      <th>scene</th>\n",
       "      <th>character</th>\n",
       "      <th>n</th>\n",
       "    </tr>\n",
       "  </thead>\n",
       "  <tbody>\n",
       "    <tr>\n",
       "      <th>0</th>\n",
       "      <td>2</td>\n",
       "      <td>Billy (Bill Nighy)</td>\n",
       "      <td>5</td>\n",
       "    </tr>\n",
       "    <tr>\n",
       "      <th>1</th>\n",
       "      <td>2</td>\n",
       "      <td>Joe (Gregor Fisher)</td>\n",
       "      <td>3</td>\n",
       "    </tr>\n",
       "    <tr>\n",
       "      <th>2</th>\n",
       "      <td>3</td>\n",
       "      <td>Jamie (Colin Firth)</td>\n",
       "      <td>5</td>\n",
       "    </tr>\n",
       "    <tr>\n",
       "      <th>3</th>\n",
       "      <td>3</td>\n",
       "      <td>Kataya (Sienna Guillory)</td>\n",
       "      <td>5</td>\n",
       "    </tr>\n",
       "    <tr>\n",
       "      <th>4</th>\n",
       "      <td>4</td>\n",
       "      <td>Daniel (Liam Neeson)</td>\n",
       "      <td>3</td>\n",
       "    </tr>\n",
       "    <tr>\n",
       "      <th>5</th>\n",
       "      <td>4</td>\n",
       "      <td>Karen (Emma Thompson)</td>\n",
       "      <td>6</td>\n",
       "    </tr>\n",
       "    <tr>\n",
       "      <th>6</th>\n",
       "      <td>5</td>\n",
       "      <td>Colin (Kris Marshall)</td>\n",
       "      <td>4</td>\n",
       "    </tr>\n",
       "    <tr>\n",
       "      <th>7</th>\n",
       "      <td>6</td>\n",
       "      <td>Jack (Martin Freeman)</td>\n",
       "      <td>2</td>\n",
       "    </tr>\n",
       "    <tr>\n",
       "      <th>8</th>\n",
       "      <td>6</td>\n",
       "      <td>Judy (Joanna Page)</td>\n",
       "      <td>1</td>\n",
       "    </tr>\n",
       "    <tr>\n",
       "      <th>9</th>\n",
       "      <td>7</td>\n",
       "      <td>Mark (Andrew Lincoln)</td>\n",
       "      <td>4</td>\n",
       "    </tr>\n",
       "  </tbody>\n",
       "</table>\n",
       "</div>"
      ],
      "text/plain": [
       "   scene                 character  n\n",
       "0      2        Billy (Bill Nighy)  5\n",
       "1      2       Joe (Gregor Fisher)  3\n",
       "2      3       Jamie (Colin Firth)  5\n",
       "3      3  Kataya (Sienna Guillory)  5\n",
       "4      4      Daniel (Liam Neeson)  3\n",
       "5      4     Karen (Emma Thompson)  6\n",
       "6      5     Colin (Kris Marshall)  4\n",
       "7      6     Jack (Martin Freeman)  2\n",
       "8      6        Judy (Joanna Page)  1\n",
       "9      7     Mark (Andrew Lincoln)  4"
      ]
     },
     "execution_count": 23,
     "metadata": {},
     "output_type": "execute_result"
    }
   ],
   "source": [
    "by_speaker_scene[:10]"
   ]
  },
  {
   "cell_type": "code",
   "execution_count": 24,
   "metadata": {
    "collapsed": true
   },
   "outputs": [],
   "source": [
    "speaker_scene_matrix = pd.pivot_table(by_speaker_scene, index=['character'],\n",
    "   columns=['scene'], fill_value=0, aggfunc=np.size)"
   ]
  },
  {
   "cell_type": "code",
   "execution_count": 25,
   "metadata": {},
   "outputs": [
    {
     "data": {
      "text/plain": [
       "(21, 76)"
      ]
     },
     "execution_count": 25,
     "metadata": {},
     "output_type": "execute_result"
    }
   ],
   "source": [
    "speaker_scene_matrix.shape"
   ]
  },
  {
   "cell_type": "code",
   "execution_count": 26,
   "metadata": {},
   "outputs": [
    {
     "data": {
      "text/html": [
       "<div>\n",
       "<style>\n",
       "    .dataframe thead tr:only-child th {\n",
       "        text-align: right;\n",
       "    }\n",
       "\n",
       "    .dataframe thead th {\n",
       "        text-align: left;\n",
       "    }\n",
       "\n",
       "    .dataframe tbody tr th {\n",
       "        vertical-align: top;\n",
       "    }\n",
       "</style>\n",
       "<table border=\"1\" class=\"dataframe\">\n",
       "  <thead>\n",
       "    <tr>\n",
       "      <th></th>\n",
       "      <th colspan=\"21\" halign=\"left\">n</th>\n",
       "    </tr>\n",
       "    <tr>\n",
       "      <th>scene</th>\n",
       "      <th>2</th>\n",
       "      <th>3</th>\n",
       "      <th>4</th>\n",
       "      <th>5</th>\n",
       "      <th>6</th>\n",
       "      <th>7</th>\n",
       "      <th>8</th>\n",
       "      <th>9</th>\n",
       "      <th>10</th>\n",
       "      <th>11</th>\n",
       "      <th>...</th>\n",
       "      <th>69</th>\n",
       "      <th>70</th>\n",
       "      <th>71</th>\n",
       "      <th>72</th>\n",
       "      <th>73</th>\n",
       "      <th>74</th>\n",
       "      <th>75</th>\n",
       "      <th>77</th>\n",
       "      <th>78</th>\n",
       "      <th>79</th>\n",
       "    </tr>\n",
       "    <tr>\n",
       "      <th>character</th>\n",
       "      <th></th>\n",
       "      <th></th>\n",
       "      <th></th>\n",
       "      <th></th>\n",
       "      <th></th>\n",
       "      <th></th>\n",
       "      <th></th>\n",
       "      <th></th>\n",
       "      <th></th>\n",
       "      <th></th>\n",
       "      <th></th>\n",
       "      <th></th>\n",
       "      <th></th>\n",
       "      <th></th>\n",
       "      <th></th>\n",
       "      <th></th>\n",
       "      <th></th>\n",
       "      <th></th>\n",
       "      <th></th>\n",
       "      <th></th>\n",
       "      <th></th>\n",
       "    </tr>\n",
       "  </thead>\n",
       "  <tbody>\n",
       "    <tr>\n",
       "      <th>Aurelia (LÃºcia Moniz)</th>\n",
       "      <td>0</td>\n",
       "      <td>0</td>\n",
       "      <td>0</td>\n",
       "      <td>0</td>\n",
       "      <td>0</td>\n",
       "      <td>0</td>\n",
       "      <td>0</td>\n",
       "      <td>0</td>\n",
       "      <td>0</td>\n",
       "      <td>0</td>\n",
       "      <td>...</td>\n",
       "      <td>0</td>\n",
       "      <td>0</td>\n",
       "      <td>0</td>\n",
       "      <td>0</td>\n",
       "      <td>0</td>\n",
       "      <td>0</td>\n",
       "      <td>0</td>\n",
       "      <td>0</td>\n",
       "      <td>1</td>\n",
       "      <td>1</td>\n",
       "    </tr>\n",
       "    <tr>\n",
       "      <th>Billy (Bill Nighy)</th>\n",
       "      <td>1</td>\n",
       "      <td>0</td>\n",
       "      <td>0</td>\n",
       "      <td>0</td>\n",
       "      <td>0</td>\n",
       "      <td>0</td>\n",
       "      <td>0</td>\n",
       "      <td>0</td>\n",
       "      <td>0</td>\n",
       "      <td>0</td>\n",
       "      <td>...</td>\n",
       "      <td>0</td>\n",
       "      <td>0</td>\n",
       "      <td>0</td>\n",
       "      <td>0</td>\n",
       "      <td>0</td>\n",
       "      <td>0</td>\n",
       "      <td>0</td>\n",
       "      <td>0</td>\n",
       "      <td>0</td>\n",
       "      <td>1</td>\n",
       "    </tr>\n",
       "    <tr>\n",
       "      <th>Colin (Kris Marshall)</th>\n",
       "      <td>0</td>\n",
       "      <td>0</td>\n",
       "      <td>0</td>\n",
       "      <td>1</td>\n",
       "      <td>0</td>\n",
       "      <td>0</td>\n",
       "      <td>0</td>\n",
       "      <td>0</td>\n",
       "      <td>0</td>\n",
       "      <td>1</td>\n",
       "      <td>...</td>\n",
       "      <td>0</td>\n",
       "      <td>0</td>\n",
       "      <td>0</td>\n",
       "      <td>0</td>\n",
       "      <td>0</td>\n",
       "      <td>0</td>\n",
       "      <td>0</td>\n",
       "      <td>0</td>\n",
       "      <td>0</td>\n",
       "      <td>1</td>\n",
       "    </tr>\n",
       "    <tr>\n",
       "      <th>Daniel (Liam Neeson)</th>\n",
       "      <td>0</td>\n",
       "      <td>0</td>\n",
       "      <td>1</td>\n",
       "      <td>0</td>\n",
       "      <td>0</td>\n",
       "      <td>0</td>\n",
       "      <td>0</td>\n",
       "      <td>0</td>\n",
       "      <td>0</td>\n",
       "      <td>0</td>\n",
       "      <td>...</td>\n",
       "      <td>0</td>\n",
       "      <td>0</td>\n",
       "      <td>0</td>\n",
       "      <td>0</td>\n",
       "      <td>1</td>\n",
       "      <td>0</td>\n",
       "      <td>1</td>\n",
       "      <td>0</td>\n",
       "      <td>0</td>\n",
       "      <td>1</td>\n",
       "    </tr>\n",
       "    <tr>\n",
       "      <th>Harry (Alan Rickman)</th>\n",
       "      <td>0</td>\n",
       "      <td>0</td>\n",
       "      <td>0</td>\n",
       "      <td>0</td>\n",
       "      <td>0</td>\n",
       "      <td>0</td>\n",
       "      <td>0</td>\n",
       "      <td>0</td>\n",
       "      <td>0</td>\n",
       "      <td>0</td>\n",
       "      <td>...</td>\n",
       "      <td>0</td>\n",
       "      <td>0</td>\n",
       "      <td>0</td>\n",
       "      <td>1</td>\n",
       "      <td>0</td>\n",
       "      <td>0</td>\n",
       "      <td>0</td>\n",
       "      <td>0</td>\n",
       "      <td>0</td>\n",
       "      <td>1</td>\n",
       "    </tr>\n",
       "    <tr>\n",
       "      <th>Jack (Martin Freeman)</th>\n",
       "      <td>0</td>\n",
       "      <td>0</td>\n",
       "      <td>0</td>\n",
       "      <td>0</td>\n",
       "      <td>1</td>\n",
       "      <td>0</td>\n",
       "      <td>0</td>\n",
       "      <td>0</td>\n",
       "      <td>0</td>\n",
       "      <td>0</td>\n",
       "      <td>...</td>\n",
       "      <td>1</td>\n",
       "      <td>0</td>\n",
       "      <td>0</td>\n",
       "      <td>0</td>\n",
       "      <td>0</td>\n",
       "      <td>0</td>\n",
       "      <td>0</td>\n",
       "      <td>0</td>\n",
       "      <td>0</td>\n",
       "      <td>1</td>\n",
       "    </tr>\n",
       "    <tr>\n",
       "      <th>Jamie (Colin Firth)</th>\n",
       "      <td>0</td>\n",
       "      <td>1</td>\n",
       "      <td>0</td>\n",
       "      <td>0</td>\n",
       "      <td>0</td>\n",
       "      <td>0</td>\n",
       "      <td>0</td>\n",
       "      <td>0</td>\n",
       "      <td>1</td>\n",
       "      <td>0</td>\n",
       "      <td>...</td>\n",
       "      <td>0</td>\n",
       "      <td>0</td>\n",
       "      <td>0</td>\n",
       "      <td>0</td>\n",
       "      <td>0</td>\n",
       "      <td>1</td>\n",
       "      <td>0</td>\n",
       "      <td>0</td>\n",
       "      <td>1</td>\n",
       "      <td>1</td>\n",
       "    </tr>\n",
       "    <tr>\n",
       "      <th>Joe (Gregor Fisher)</th>\n",
       "      <td>1</td>\n",
       "      <td>0</td>\n",
       "      <td>0</td>\n",
       "      <td>0</td>\n",
       "      <td>0</td>\n",
       "      <td>0</td>\n",
       "      <td>0</td>\n",
       "      <td>0</td>\n",
       "      <td>0</td>\n",
       "      <td>0</td>\n",
       "      <td>...</td>\n",
       "      <td>0</td>\n",
       "      <td>0</td>\n",
       "      <td>0</td>\n",
       "      <td>0</td>\n",
       "      <td>0</td>\n",
       "      <td>0</td>\n",
       "      <td>0</td>\n",
       "      <td>0</td>\n",
       "      <td>0</td>\n",
       "      <td>1</td>\n",
       "    </tr>\n",
       "    <tr>\n",
       "      <th>Judy (Joanna Page)</th>\n",
       "      <td>0</td>\n",
       "      <td>0</td>\n",
       "      <td>0</td>\n",
       "      <td>0</td>\n",
       "      <td>1</td>\n",
       "      <td>0</td>\n",
       "      <td>0</td>\n",
       "      <td>0</td>\n",
       "      <td>0</td>\n",
       "      <td>0</td>\n",
       "      <td>...</td>\n",
       "      <td>1</td>\n",
       "      <td>0</td>\n",
       "      <td>0</td>\n",
       "      <td>0</td>\n",
       "      <td>0</td>\n",
       "      <td>0</td>\n",
       "      <td>0</td>\n",
       "      <td>0</td>\n",
       "      <td>0</td>\n",
       "      <td>1</td>\n",
       "    </tr>\n",
       "    <tr>\n",
       "      <th>Juliet (Keira Knightley)</th>\n",
       "      <td>0</td>\n",
       "      <td>0</td>\n",
       "      <td>0</td>\n",
       "      <td>0</td>\n",
       "      <td>0</td>\n",
       "      <td>0</td>\n",
       "      <td>0</td>\n",
       "      <td>1</td>\n",
       "      <td>0</td>\n",
       "      <td>0</td>\n",
       "      <td>...</td>\n",
       "      <td>0</td>\n",
       "      <td>0</td>\n",
       "      <td>0</td>\n",
       "      <td>0</td>\n",
       "      <td>0</td>\n",
       "      <td>0</td>\n",
       "      <td>0</td>\n",
       "      <td>0</td>\n",
       "      <td>0</td>\n",
       "      <td>0</td>\n",
       "    </tr>\n",
       "    <tr>\n",
       "      <th>Karen (Emma Thompson)</th>\n",
       "      <td>0</td>\n",
       "      <td>0</td>\n",
       "      <td>1</td>\n",
       "      <td>0</td>\n",
       "      <td>0</td>\n",
       "      <td>0</td>\n",
       "      <td>0</td>\n",
       "      <td>0</td>\n",
       "      <td>0</td>\n",
       "      <td>0</td>\n",
       "      <td>...</td>\n",
       "      <td>0</td>\n",
       "      <td>1</td>\n",
       "      <td>0</td>\n",
       "      <td>1</td>\n",
       "      <td>0</td>\n",
       "      <td>0</td>\n",
       "      <td>0</td>\n",
       "      <td>0</td>\n",
       "      <td>0</td>\n",
       "      <td>1</td>\n",
       "    </tr>\n",
       "    <tr>\n",
       "      <th>Karl (Rodrigo Santoro)</th>\n",
       "      <td>0</td>\n",
       "      <td>0</td>\n",
       "      <td>0</td>\n",
       "      <td>0</td>\n",
       "      <td>0</td>\n",
       "      <td>0</td>\n",
       "      <td>0</td>\n",
       "      <td>0</td>\n",
       "      <td>0</td>\n",
       "      <td>0</td>\n",
       "      <td>...</td>\n",
       "      <td>0</td>\n",
       "      <td>0</td>\n",
       "      <td>0</td>\n",
       "      <td>0</td>\n",
       "      <td>0</td>\n",
       "      <td>0</td>\n",
       "      <td>0</td>\n",
       "      <td>0</td>\n",
       "      <td>0</td>\n",
       "      <td>0</td>\n",
       "    </tr>\n",
       "    <tr>\n",
       "      <th>Kataya (Sienna Guillory)</th>\n",
       "      <td>0</td>\n",
       "      <td>1</td>\n",
       "      <td>0</td>\n",
       "      <td>0</td>\n",
       "      <td>0</td>\n",
       "      <td>0</td>\n",
       "      <td>0</td>\n",
       "      <td>0</td>\n",
       "      <td>0</td>\n",
       "      <td>0</td>\n",
       "      <td>...</td>\n",
       "      <td>0</td>\n",
       "      <td>0</td>\n",
       "      <td>0</td>\n",
       "      <td>0</td>\n",
       "      <td>0</td>\n",
       "      <td>0</td>\n",
       "      <td>0</td>\n",
       "      <td>0</td>\n",
       "      <td>0</td>\n",
       "      <td>0</td>\n",
       "    </tr>\n",
       "    <tr>\n",
       "      <th>Mark (Andrew Lincoln)</th>\n",
       "      <td>0</td>\n",
       "      <td>0</td>\n",
       "      <td>0</td>\n",
       "      <td>0</td>\n",
       "      <td>0</td>\n",
       "      <td>1</td>\n",
       "      <td>0</td>\n",
       "      <td>1</td>\n",
       "      <td>0</td>\n",
       "      <td>1</td>\n",
       "      <td>...</td>\n",
       "      <td>0</td>\n",
       "      <td>0</td>\n",
       "      <td>0</td>\n",
       "      <td>0</td>\n",
       "      <td>0</td>\n",
       "      <td>0</td>\n",
       "      <td>0</td>\n",
       "      <td>0</td>\n",
       "      <td>0</td>\n",
       "      <td>1</td>\n",
       "    </tr>\n",
       "    <tr>\n",
       "      <th>Mia (Heike Makatsch)</th>\n",
       "      <td>0</td>\n",
       "      <td>0</td>\n",
       "      <td>0</td>\n",
       "      <td>0</td>\n",
       "      <td>0</td>\n",
       "      <td>0</td>\n",
       "      <td>0</td>\n",
       "      <td>0</td>\n",
       "      <td>0</td>\n",
       "      <td>0</td>\n",
       "      <td>...</td>\n",
       "      <td>0</td>\n",
       "      <td>0</td>\n",
       "      <td>0</td>\n",
       "      <td>0</td>\n",
       "      <td>0</td>\n",
       "      <td>0</td>\n",
       "      <td>0</td>\n",
       "      <td>0</td>\n",
       "      <td>0</td>\n",
       "      <td>0</td>\n",
       "    </tr>\n",
       "    <tr>\n",
       "      <th>Natalie (Martine McCutcheon)</th>\n",
       "      <td>0</td>\n",
       "      <td>0</td>\n",
       "      <td>0</td>\n",
       "      <td>0</td>\n",
       "      <td>0</td>\n",
       "      <td>0</td>\n",
       "      <td>1</td>\n",
       "      <td>0</td>\n",
       "      <td>0</td>\n",
       "      <td>0</td>\n",
       "      <td>...</td>\n",
       "      <td>1</td>\n",
       "      <td>1</td>\n",
       "      <td>1</td>\n",
       "      <td>0</td>\n",
       "      <td>0</td>\n",
       "      <td>0</td>\n",
       "      <td>0</td>\n",
       "      <td>0</td>\n",
       "      <td>0</td>\n",
       "      <td>1</td>\n",
       "    </tr>\n",
       "    <tr>\n",
       "      <th>PM (Hugh Grant)</th>\n",
       "      <td>0</td>\n",
       "      <td>0</td>\n",
       "      <td>0</td>\n",
       "      <td>0</td>\n",
       "      <td>0</td>\n",
       "      <td>0</td>\n",
       "      <td>1</td>\n",
       "      <td>0</td>\n",
       "      <td>0</td>\n",
       "      <td>0</td>\n",
       "      <td>...</td>\n",
       "      <td>1</td>\n",
       "      <td>1</td>\n",
       "      <td>1</td>\n",
       "      <td>0</td>\n",
       "      <td>0</td>\n",
       "      <td>0</td>\n",
       "      <td>0</td>\n",
       "      <td>0</td>\n",
       "      <td>0</td>\n",
       "      <td>1</td>\n",
       "    </tr>\n",
       "    <tr>\n",
       "      <th>Peter (Chiwetel Ejiofor)</th>\n",
       "      <td>0</td>\n",
       "      <td>0</td>\n",
       "      <td>0</td>\n",
       "      <td>0</td>\n",
       "      <td>0</td>\n",
       "      <td>1</td>\n",
       "      <td>0</td>\n",
       "      <td>1</td>\n",
       "      <td>0</td>\n",
       "      <td>0</td>\n",
       "      <td>...</td>\n",
       "      <td>0</td>\n",
       "      <td>0</td>\n",
       "      <td>0</td>\n",
       "      <td>0</td>\n",
       "      <td>0</td>\n",
       "      <td>0</td>\n",
       "      <td>0</td>\n",
       "      <td>0</td>\n",
       "      <td>0</td>\n",
       "      <td>0</td>\n",
       "    </tr>\n",
       "    <tr>\n",
       "      <th>Sam (Thomas Sangster)</th>\n",
       "      <td>0</td>\n",
       "      <td>0</td>\n",
       "      <td>0</td>\n",
       "      <td>0</td>\n",
       "      <td>0</td>\n",
       "      <td>0</td>\n",
       "      <td>0</td>\n",
       "      <td>0</td>\n",
       "      <td>0</td>\n",
       "      <td>0</td>\n",
       "      <td>...</td>\n",
       "      <td>1</td>\n",
       "      <td>0</td>\n",
       "      <td>0</td>\n",
       "      <td>0</td>\n",
       "      <td>1</td>\n",
       "      <td>0</td>\n",
       "      <td>1</td>\n",
       "      <td>1</td>\n",
       "      <td>0</td>\n",
       "      <td>1</td>\n",
       "    </tr>\n",
       "    <tr>\n",
       "      <th>Sarah (Laura Linney)</th>\n",
       "      <td>0</td>\n",
       "      <td>0</td>\n",
       "      <td>0</td>\n",
       "      <td>0</td>\n",
       "      <td>0</td>\n",
       "      <td>0</td>\n",
       "      <td>0</td>\n",
       "      <td>0</td>\n",
       "      <td>0</td>\n",
       "      <td>0</td>\n",
       "      <td>...</td>\n",
       "      <td>0</td>\n",
       "      <td>0</td>\n",
       "      <td>0</td>\n",
       "      <td>0</td>\n",
       "      <td>0</td>\n",
       "      <td>0</td>\n",
       "      <td>0</td>\n",
       "      <td>0</td>\n",
       "      <td>0</td>\n",
       "      <td>0</td>\n",
       "    </tr>\n",
       "    <tr>\n",
       "      <th>Tony (Abdul Salis)</th>\n",
       "      <td>0</td>\n",
       "      <td>0</td>\n",
       "      <td>0</td>\n",
       "      <td>0</td>\n",
       "      <td>0</td>\n",
       "      <td>0</td>\n",
       "      <td>0</td>\n",
       "      <td>0</td>\n",
       "      <td>0</td>\n",
       "      <td>0</td>\n",
       "      <td>...</td>\n",
       "      <td>0</td>\n",
       "      <td>0</td>\n",
       "      <td>0</td>\n",
       "      <td>0</td>\n",
       "      <td>0</td>\n",
       "      <td>0</td>\n",
       "      <td>0</td>\n",
       "      <td>0</td>\n",
       "      <td>0</td>\n",
       "      <td>1</td>\n",
       "    </tr>\n",
       "  </tbody>\n",
       "</table>\n",
       "<p>21 rows × 76 columns</p>\n",
       "</div>"
      ],
      "text/plain": [
       "                              n                            ...                 \\\n",
       "scene                        2  3  4  5  6  7  8  9  10 11 ... 69 70 71 72 73   \n",
       "character                                                  ...                  \n",
       "Aurelia (LÃºcia Moniz)        0  0  0  0  0  0  0  0  0  0 ...  0  0  0  0  0   \n",
       "Billy (Bill Nighy)            1  0  0  0  0  0  0  0  0  0 ...  0  0  0  0  0   \n",
       "Colin (Kris Marshall)         0  0  0  1  0  0  0  0  0  1 ...  0  0  0  0  0   \n",
       "Daniel (Liam Neeson)          0  0  1  0  0  0  0  0  0  0 ...  0  0  0  0  1   \n",
       "Harry (Alan Rickman)          0  0  0  0  0  0  0  0  0  0 ...  0  0  0  1  0   \n",
       "Jack (Martin Freeman)         0  0  0  0  1  0  0  0  0  0 ...  1  0  0  0  0   \n",
       "Jamie (Colin Firth)           0  1  0  0  0  0  0  0  1  0 ...  0  0  0  0  0   \n",
       "Joe (Gregor Fisher)           1  0  0  0  0  0  0  0  0  0 ...  0  0  0  0  0   \n",
       "Judy (Joanna Page)            0  0  0  0  1  0  0  0  0  0 ...  1  0  0  0  0   \n",
       "Juliet (Keira Knightley)      0  0  0  0  0  0  0  1  0  0 ...  0  0  0  0  0   \n",
       "Karen (Emma Thompson)         0  0  1  0  0  0  0  0  0  0 ...  0  1  0  1  0   \n",
       "Karl (Rodrigo Santoro)        0  0  0  0  0  0  0  0  0  0 ...  0  0  0  0  0   \n",
       "Kataya (Sienna Guillory)      0  1  0  0  0  0  0  0  0  0 ...  0  0  0  0  0   \n",
       "Mark (Andrew Lincoln)         0  0  0  0  0  1  0  1  0  1 ...  0  0  0  0  0   \n",
       "Mia (Heike Makatsch)          0  0  0  0  0  0  0  0  0  0 ...  0  0  0  0  0   \n",
       "Natalie (Martine McCutcheon)  0  0  0  0  0  0  1  0  0  0 ...  1  1  1  0  0   \n",
       "PM (Hugh Grant)               0  0  0  0  0  0  1  0  0  0 ...  1  1  1  0  0   \n",
       "Peter (Chiwetel Ejiofor)      0  0  0  0  0  1  0  1  0  0 ...  0  0  0  0  0   \n",
       "Sam (Thomas Sangster)         0  0  0  0  0  0  0  0  0  0 ...  1  0  0  0  1   \n",
       "Sarah (Laura Linney)          0  0  0  0  0  0  0  0  0  0 ...  0  0  0  0  0   \n",
       "Tony (Abdul Salis)            0  0  0  0  0  0  0  0  0  0 ...  0  0  0  0  0   \n",
       "\n",
       "                                             \n",
       "scene                        74 75 77 78 79  \n",
       "character                                    \n",
       "Aurelia (LÃºcia Moniz)        0  0  0  1  1  \n",
       "Billy (Bill Nighy)            0  0  0  0  1  \n",
       "Colin (Kris Marshall)         0  0  0  0  1  \n",
       "Daniel (Liam Neeson)          0  1  0  0  1  \n",
       "Harry (Alan Rickman)          0  0  0  0  1  \n",
       "Jack (Martin Freeman)         0  0  0  0  1  \n",
       "Jamie (Colin Firth)           1  0  0  1  1  \n",
       "Joe (Gregor Fisher)           0  0  0  0  1  \n",
       "Judy (Joanna Page)            0  0  0  0  1  \n",
       "Juliet (Keira Knightley)      0  0  0  0  0  \n",
       "Karen (Emma Thompson)         0  0  0  0  1  \n",
       "Karl (Rodrigo Santoro)        0  0  0  0  0  \n",
       "Kataya (Sienna Guillory)      0  0  0  0  0  \n",
       "Mark (Andrew Lincoln)         0  0  0  0  1  \n",
       "Mia (Heike Makatsch)          0  0  0  0  0  \n",
       "Natalie (Martine McCutcheon)  0  0  0  0  1  \n",
       "PM (Hugh Grant)               0  0  0  0  1  \n",
       "Peter (Chiwetel Ejiofor)      0  0  0  0  0  \n",
       "Sam (Thomas Sangster)         0  1  1  0  1  \n",
       "Sarah (Laura Linney)          0  0  0  0  0  \n",
       "Tony (Abdul Salis)            0  0  0  0  1  \n",
       "\n",
       "[21 rows x 76 columns]"
      ]
     },
     "execution_count": 26,
     "metadata": {},
     "output_type": "execute_result"
    }
   ],
   "source": [
    "speaker_scene_matrix"
   ]
  },
  {
   "cell_type": "markdown",
   "metadata": {},
   "source": [
    "## Hierarchical clustering\n",
    "\n",
    "Now that the data is tidy, let's begin our analysis!\n",
    "\n",
    "First up: hierarchical clustering will provide an ordering that puts similar characters close together."
   ]
  },
  {
   "cell_type": "code",
   "execution_count": 27,
   "metadata": {
    "collapsed": true
   },
   "outputs": [],
   "source": [
    "# Normalizing so that the # of scenes for each character adds up to 1 (http://varianceexplained.org/r/love-actually-network/#fn:hclust)\n",
    "\n",
    "# in pandas, axis specifies the axis **along which** to compute\n",
    "# - so we're summing along the columns (i.e. row sum) and then dividing that sum along rows ('index' in pandas)\n",
    "norm = speaker_scene_matrix.div(speaker_scene_matrix.sum(axis='columns'), axis='index')"
   ]
  },
  {
   "cell_type": "markdown",
   "metadata": {},
   "source": [
    "Helpful SciPy documentation:\n",
    "- [pdist and Manhattan/cityblock distance](https://docs.scipy.org/doc/scipy/reference/generated/scipy.spatial.distance.pdist.html#scipy.spatial.distance.pdist)\n",
    "- [Hierarchical clustering](https://docs.scipy.org/doc/scipy/reference/cluster.hierarchy.html)\n",
    "- [Dendrogram plotting](https://docs.scipy.org/doc/scipy/reference/generated/scipy.cluster.hierarchy.dendrogram.html#scipy.cluster.hierarchy.dendrogram)"
   ]
  },
  {
   "cell_type": "code",
   "execution_count": 28,
   "metadata": {
    "collapsed": true
   },
   "outputs": [],
   "source": [
    "from scipy.spatial.distance import pdist\n",
    "from scipy.cluster import hierarchy\n",
    "\n",
    "# cityblock = Manhattan distance\n",
    "# complete finds similar clusters\n",
    "h = hierarchy.complete(pdist(norm, metric='cityblock'))"
   ]
  },
  {
   "cell_type": "code",
   "execution_count": 29,
   "metadata": {},
   "outputs": [
    {
     "data": {
      "image/png": "[encoded data removed]",
      "text/plain": [
       "<matplotlib.figure.Figure at 0x20223d4f9b0>"
      ]
     },
     "metadata": {},
     "output_type": "display_data"
    }
   ],
   "source": [
    "import matplotlib.pyplot as plt\n",
    "\n",
    "plt.figure(figsize=(12, 4))\n",
    "dn = hierarchy.dendrogram(h, labels=norm.index.values, leaf_rotation=90)\n",
    "plt.ylabel('cityblock distance')\n",
    "plt.xlabel('hierarchy.complete(pdist(norm, metric=\\'cityblock\\'))')\n",
    "plt.show()"
   ]
  },
  {
   "cell_type": "markdown",
   "metadata": {},
   "source": [
    "For an explanation of the y-axis value: https://stats.stackexchange.com/a/95858"
   ]
  },
  {
   "cell_type": "markdown",
   "metadata": {},
   "source": [
    "I'm just going to go ahead and declare that `matplotlib` is prettier and more readable than R's `graphics/plot` package:\n",
    "\n",
    "<img src=\"varianceexplained-dendrogram.png\" alt=\"David's Cluster Dendrogram plot\" style=\"margin: 0;\"/>\n",
    "\n",
    "**TODO** Revisit this analysis\n",
    "\n",
    "With `matplotlib`, it's easier to see which pairs are tightest (Jack/Judy, Daniel/Sam, Juliet/Peter) and which characters and clusters are either fairly disconnected from everyone else (Kataya, Mia, Natalie/PM) or fairly connected (Karen/Harry/Mia).\n",
    "\n",
    "The triads are also pretty interesting (Juliet/Peter/Mark, Harry/Karen/Mia).\n",
    "\n",
    "**Note** the differences in cluster orderings between mine and David's plots - this will account for differences in the upcoming _Visual Timeline_ ordering as well!"
   ]
  },
  {
   "cell_type": "markdown",
   "metadata": {},
   "source": [
    "**EXTENSION** As suggested by David, try different distance matrix computations and see what changes!"
   ]
  },
  {
   "cell_type": "markdown",
   "metadata": {},
   "source": [
    "## Visual Timeline\n",
    "\n",
    "I'm excited for this visualization! It was the first one in David's original post that made me go, \"huh, cool!\""
   ]
  },
  {
   "cell_type": "code",
   "execution_count": 30,
   "metadata": {
    "collapsed": true
   },
   "outputs": [],
   "source": [
    "scenes = by_speaker_scene.groupby('scene').filter(lambda g: len(g) > 1)"
   ]
  },
  {
   "cell_type": "code",
   "execution_count": 31,
   "metadata": {
    "collapsed": true
   },
   "outputs": [],
   "source": [
    "# Temporarily suppressing SettingWithCopyWarning below\n",
    "original_setting = pd.get_option('chained_assignment')\n",
    "pd.set_option('chained_assignment', None)"
   ]
  },
  {
   "cell_type": "code",
   "execution_count": 32,
   "metadata": {
    "collapsed": true
   },
   "outputs": [],
   "source": [
    "# now that we've removed scene numbers, update them so that they are contiguous integers\n",
    "old_to_new_scenes = {o:n+1 for n,o in enumerate(scenes.scene.unique())}\n",
    "scenes.scene = scenes.scene.apply(lambda x: old_to_new_scenes[x])"
   ]
  },
  {
   "cell_type": "code",
   "execution_count": 33,
   "metadata": {
    "collapsed": true
   },
   "outputs": [],
   "source": [
    "# enforce categorical ordering by character similarities found by our hierarchical clustering earlier (rather than alphabetical)\n",
    "scenes.character = pd.Categorical(scenes.character).reorder_categories(dn['ivl'])"
   ]
  },
  {
   "cell_type": "markdown",
   "metadata": {},
   "source": [
    "**EXTENSION** My [initial ordering](https://github.com/iconix/love-actually/blob/83ea61e1c4d9187ec38cc3b46f596e09be0dca9b/love-actually.ipynb) for characters as categorical data was by first appearance in movie (i.e., by scene number). The visual timeline had pretty interesting properties where you could track characters being introduced, first in pairs, then in connection with previously introduced characters.\n",
    "\n",
    "I switched to ordering by \"character similarity\" to stay true to my purpose of replicating David's analysis... however, I think I like the \"first appearance\" ordering more! It would make the timeline more useful if you had it open during a viewing of the movie (at least during the first 25 scenes with 2+ characters)."
   ]
  },
  {
   "cell_type": "code",
   "execution_count": 34,
   "metadata": {
    "collapsed": true
   },
   "outputs": [],
   "source": [
    "# Turn SettingWithCopyWarning back on\n",
    "pd.set_option('chained_assignment', original_setting)"
   ]
  },
  {
   "cell_type": "markdown",
   "metadata": {},
   "source": [
    "`ggplot` for Python does not support plotting categorical variables like `ggplot2` in R (https://stackoverflow.com/a/27746048), so I'm using `seaborn` instead: http://seaborn.pydata.org/tutorial/categorical.html"
   ]
  },
  {
   "cell_type": "code",
   "execution_count": 35,
   "metadata": {
    "collapsed": true
   },
   "outputs": [],
   "source": [
    "%matplotlib inline\n",
    "import matplotlib.pyplot as plt\n",
    "import matplotlib.ticker as ticker\n",
    "import matplotlib.collections as collections\n",
    "import matplotlib.colors as colors\n",
    "import seaborn as sns"
   ]
  },
  {
   "cell_type": "markdown",
   "metadata": {},
   "source": [
    "`get_ylim_for_scene` replaces David's use of `geom_path(aes(group = scene)` from `ggplot2` to connect characters in the same scene with vertical lines."
   ]
  },
  {
   "cell_type": "code",
   "execution_count": 36,
   "metadata": {
    "collapsed": true
   },
   "outputs": [],
   "source": [
    "def get_ylim_for_scene(ss, character_ordering, s):\n",
    "    max_index = 0\n",
    "    min_index = len(ss.scene.unique()) + 1\n",
    "    for c in ss.loc[ss.scene == s].character:\n",
    "        c_index = np.where(character_ordering == c)[0][0]\n",
    "        max_index = c_index if c_index > max_index else max_index\n",
    "        min_index = c_index if c_index < min_index else min_index\n",
    "    return min_index, max_index"
   ]
  },
  {
   "cell_type": "markdown",
   "metadata": {},
   "source": [
    "Now we can plot the visual timeline!"
   ]
  },
  {
   "cell_type": "code",
   "execution_count": 37,
   "metadata": {},
   "outputs": [
    {
     "data": {
      "image/png": "[encoded data removed]",
      "text/plain": [
       "<matplotlib.figure.Figure at 0x202238e3cf8>"
      ]
     },
     "metadata": {},
     "output_type": "display_data"
    }
   ],
   "source": [
    "num_scenes = len(scenes.scene.unique())\n",
    "num_characters = len(scenes.character.unique())\n",
    "\n",
    "plt.figure(figsize=(6, 8))\n",
    "\n",
    "sns.set_style('whitegrid')\n",
    "timeline = sns.stripplot(x='scene', y='character', color='black', data=scenes, marker='D')\n",
    "timeline.xaxis.set_major_locator(ticker.MultipleLocator(5))\n",
    "timeline.set(xlim=(0,num_scenes + 1))\n",
    "\n",
    "# inspired by: https://stackoverflow.com/a/40896356\n",
    "vlines = []\n",
    "for i in range(num_scenes+1):\n",
    "    y_min, y_max = get_ylim_for_scene(scenes, np.array(dn['ivl']), i)\n",
    "    pair=[(i, y_min), (i, y_max)]\n",
    "    vlines.append(pair)\n",
    "  \n",
    "# horizontal grid lines\n",
    "hlines = []\n",
    "for i in range(num_characters+1):\n",
    "    pair=[(0, i), (num_scenes+1, i)]\n",
    "    hlines.append(pair)\n",
    "\n",
    "hlinecoll = collections.LineCollection(hlines, colors=colors.to_rgb('lightgrey'), linewidths=1)\n",
    "timeline.add_collection(hlinecoll)\n",
    "\n",
    "vlinecoll = collections.LineCollection(vlines, colors=colors.to_rgb('black'), linewidths=1.1)\n",
    "timeline.add_collection(vlinecoll)\n",
    "\n",
    "plt.show()"
   ]
  },
  {
   "cell_type": "markdown",
   "metadata": {},
   "source": [
    "Sweet!"
   ]
  },
  {
   "cell_type": "markdown",
   "metadata": {},
   "source": [
    "## Cooccurence Heatmap"
   ]
  },
  {
   "cell_type": "code",
   "execution_count": 38,
   "metadata": {
    "collapsed": true
   },
   "outputs": [],
   "source": [
    "non_airport_scenes = speaker_scene_matrix.loc[:, speaker_scene_matrix.sum(axis='index') < 10].reindex(dn['ivl'])"
   ]
  },
  {
   "cell_type": "code",
   "execution_count": 39,
   "metadata": {
    "collapsed": true
   },
   "outputs": [],
   "source": [
    "cooccur = np.dot(non_airport_scenes, non_airport_scenes.T)"
   ]
  },
  {
   "cell_type": "code",
   "execution_count": 40,
   "metadata": {},
   "outputs": [
    {
     "data": {
      "image/png": "[encoded data removed]",
      "text/plain": [
       "<matplotlib.figure.Figure at 0x202238e3be0>"
      ]
     },
     "metadata": {},
     "output_type": "display_data"
    }
   ],
   "source": [
    "plt.figure()\n",
    "sns.heatmap(cooccur, annot=True, fmt='d', cmap='Reds', xticklabels=dn['ivl'], yticklabels=dn['ivl'])\n",
    "plt.show()"
   ]
  },
  {
   "cell_type": "markdown",
   "metadata": {},
   "source": [
    "Another way to view the character clusters; I'm especially fond of the prominence of the `Karl/Sarah/Mia/Harry/Karen` and `Mark/Juliet/Peter` clusters.\n",
    "\n",
    "I toyed with the idea of removing the info on the diagonal of 'characters in scenes with themselves' - but then I noticed that it tells how many total scenes a character is in, which is interesting to see."
   ]
  },
  {
   "cell_type": "markdown",
   "metadata": {},
   "source": [
    "## Network Graph"
   ]
  },
  {
   "cell_type": "markdown",
   "metadata": {},
   "source": [
    "https://www.udacity.com/wiki/creating-network-graphs-with-python (https://stackoverflow.com/a/29574114)"
   ]
  },
  {
   "cell_type": "code",
   "execution_count": 51,
   "metadata": {},
   "outputs": [
    {
     "data": {
      "image/png": "[encoded data removed]",
      "text/plain": [
       "<matplotlib.figure.Figure at 0x2022737f588>"
      ]
     },
     "metadata": {},
     "output_type": "display_data"
    }
   ],
   "source": [
    "import networkx as nx\n",
    "import pylab\n",
    "\n",
    "def show_graph_with_labels(adjacency_matrix, mylabels):\n",
    "    plt.figure(figsize=(12, 10))\n",
    "    rows, cols = np.where(adjacency_matrix > 0)\n",
    "    edges = zip(rows.tolist(), cols.tolist())\n",
    "    gr = nx.Graph()\n",
    "    gr.add_edges_from(edges)\n",
    "    nx.draw_networkx(gr, node_size=400, labels=mylabels, with_labels=True)\n",
    "    limits=pylab.axis('off') # turn off axis\n",
    "    plt.show()\n",
    "\n",
    "show_graph_with_labels(cooccur, dict(zip(list(range(len(dn['ivl']))), dn['ivl'])))"
   ]
  },
  {
   "cell_type": "markdown",
   "metadata": {},
   "source": [
    "Preventing label overlap? http://scikit-learn.org/stable/auto_examples/applications/plot_stock_market.html"
   ]
  },
  {
   "cell_type": "markdown",
   "metadata": {},
   "source": [
    "## From Python to Shiny App\n",
    "\n",
    "The Shiny app runs off of `love_actually_data.rda`, which is conventionally generated by R. Here, we will generate it with Python."
   ]
  },
  {
   "cell_type": "code",
   "execution_count": 42,
   "metadata": {},
   "outputs": [],
   "source": [
    "speaker_scene_matrix.columns = speaker_scene_matrix.columns.droplevel() # drop 'n'"
   ]
  },
  {
   "cell_type": "code",
   "execution_count": 43,
   "metadata": {},
   "outputs": [
    {
     "data": {
      "text/plain": [
       "Int64Index([ 2,  3,  4,  5,  6,  7,  8,  9, 10, 11, 12, 13, 14, 15, 16, 17, 18,\n",
       "            19, 20, 21, 22, 23, 24, 25, 26, 27, 28, 29, 30, 31, 32, 33, 34, 35,\n",
       "            36, 37, 38, 39, 40, 42, 43, 44, 45, 46, 47, 48, 49, 50, 51, 52, 53,\n",
       "            54, 55, 56, 57, 58, 59, 60, 61, 62, 63, 64, 65, 66, 67, 68, 69, 70,\n",
       "            71, 72, 73, 74, 75, 77, 78, 79],\n",
       "           dtype='int64', name='scene')"
      ]
     },
     "execution_count": 43,
     "metadata": {},
     "output_type": "execute_result"
    }
   ],
   "source": [
    "speaker_scene_matrix.columns"
   ]
  },
  {
   "cell_type": "code",
   "execution_count": 44,
   "metadata": {},
   "outputs": [
    {
     "data": {
      "text/plain": [
       "(21, 76)"
      ]
     },
     "execution_count": 44,
     "metadata": {},
     "output_type": "execute_result"
    }
   ],
   "source": [
    "speaker_scene_matrix.shape"
   ]
  },
  {
   "cell_type": "code",
   "execution_count": 45,
   "metadata": {},
   "outputs": [
    {
     "data": {
      "text/plain": [
       "(145, 3)"
      ]
     },
     "execution_count": 45,
     "metadata": {},
     "output_type": "execute_result"
    }
   ],
   "source": [
    "scenes.shape"
   ]
  },
  {
   "cell_type": "code",
   "execution_count": 46,
   "metadata": {
    "collapsed": true
   },
   "outputs": [],
   "source": [
    "#!conda install rpy2\n",
    "# + https://github.com/ContinuumIO/anaconda-issues/issues/1129#issuecomment-289413749"
   ]
  },
  {
   "cell_type": "code",
   "execution_count": 47,
   "metadata": {},
   "outputs": [],
   "source": [
    "# https://stackoverflow.com/a/11586672\n",
    "# http://pandas.pydata.org/pandas-docs/version/0.19.2/r_interface.html#rpy-updating\n",
    "\n",
    "from rpy2.robjects import r, pandas2ri\n",
    "pandas2ri.activate()\n",
    "\n",
    "r_speaker_scene_matrix = pandas2ri.py2ri(speaker_scene_matrix)\n",
    "r_scenes = pandas2ri.py2ri(scenes)"
   ]
  },
  {
   "cell_type": "code",
   "execution_count": 48,
   "metadata": {},
   "outputs": [
    {
     "data": {
      "text/plain": [
       "rpy2.rinterface.NULL"
      ]
     },
     "execution_count": 48,
     "metadata": {},
     "output_type": "execute_result"
    }
   ],
   "source": [
    "r.assign(\"speaker_scene_matrix\", r_speaker_scene_matrix)\n",
    "r.assign(\"scenes\", r_scenes)\n",
    "r(\"save(speaker_scene_matrix, scenes, file='love_actually_data_py.rda')\")"
   ]
  }
 ],
 "metadata": {
  "kernelspec": {
   "display_name": "Python 3",
   "language": "python",
   "name": "python3"
  },
  "language_info": {
   "codemirror_mode": {
    "name": "ipython",
    "version": 3
   },
   "file_extension": ".py",
   "mimetype": "text/x-python",
   "name": "python",
   "nbconvert_exporter": "python",
   "pygments_lexer": "ipython3",
   "version": "3.6.2"
  }
 },
 "nbformat": 4,
 "nbformat_minor": 1
}
